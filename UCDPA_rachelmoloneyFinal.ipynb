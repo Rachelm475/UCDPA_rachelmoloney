{
 "cells": [
  {
   "cell_type": "code",
   "execution_count": 345,
   "id": "5d8fc1ca",
   "metadata": {},
   "outputs": [],
   "source": [
    "import pandas as pd\n",
    "import numpy as np \n",
    "import seaborn as sns\n",
    "import matplotlib.pyplot as plt"
   ]
  },
  {
   "cell_type": "code",
   "execution_count": 346,
   "id": "6339fb54",
   "metadata": {},
   "outputs": [
    {
     "name": "stdout",
     "output_type": "stream",
     "text": [
      "   Rank                        Name        Country   Sales  Profits   Assets  \\\n",
      "0     1                        ICBC          China  165.34    43.67  4210.93   \n",
      "1     2     China Construction Bank          China  143.20    37.20  3631.58   \n",
      "2     3              JPMorgan Chase  United States  118.18    26.50  2609.79   \n",
      "3     4          Berkshire Hathaway  United States  235.17    39.74   702.65   \n",
      "4     5  Agricultural Bank of China          China  129.35    29.64  3439.31   \n",
      "\n",
      "       MV    Year  \n",
      "0  311.01  2018.0  \n",
      "1  261.17  2018.0  \n",
      "2  387.67  2018.0  \n",
      "3  491.89  2018.0  \n",
      "4  184.13  2018.0  \n",
      "(2000, 8)\n"
     ]
    }
   ],
   "source": [
    "F18 = pd.read_csv(r\"C:\\Users\\ramolone\\OneDrive - Microsoft\\Documents\\Data Analytics\\Forbes-2018.csv\")\n",
    "print(F18.head())\n",
    "print(F18.shape)"
   ]
  },
  {
   "cell_type": "code",
   "execution_count": 347,
   "id": "56494911",
   "metadata": {},
   "outputs": [
    {
     "name": "stdout",
     "output_type": "stream",
     "text": [
      "   Rank                        Name        Country   Sales  Profits   Assets  \\\n",
      "0     1                        ICBC          China  165.34    43.67  4210.93   \n",
      "1     2     China Construction Bank          China  143.20    37.20  3631.58   \n",
      "2     3              JPMorgan Chase  United States  118.18    26.50  2609.79   \n",
      "3     4          Berkshire Hathaway  United States  235.17    39.74   702.65   \n",
      "4     5  Agricultural Bank of China          China  129.35    29.64  3439.31   \n",
      "\n",
      "       MV  Year  \n",
      "0  311.01  2018  \n",
      "1  261.17  2018  \n",
      "2  387.67  2018  \n",
      "3  491.89  2018  \n",
      "4  184.13  2018  \n"
     ]
    }
   ],
   "source": [
    "F18['Year'] = F18['Year'].astype(int)\n",
    "print(F18.head())"
   ]
  },
  {
   "cell_type": "code",
   "execution_count": 348,
   "id": "cab26eb8",
   "metadata": {},
   "outputs": [
    {
     "data": {
      "text/plain": [
       "Rank       0\n",
       "Name       0\n",
       "Country    2\n",
       "Sales      3\n",
       "Profits    2\n",
       "Assets     6\n",
       "MV         7\n",
       "Year       0\n",
       "dtype: int64"
      ]
     },
     "execution_count": 348,
     "metadata": {},
     "output_type": "execute_result"
    }
   ],
   "source": [
    "F18.isnull().sum()"
   ]
  },
  {
   "cell_type": "code",
   "execution_count": 349,
   "id": "0ab8ba6b",
   "metadata": {},
   "outputs": [],
   "source": [
    "F18.dropna(subset = [\"Country\", \"Sales\", \"Profits\", \"Assets\", \"MV\"], inplace=True)"
   ]
  },
  {
   "cell_type": "code",
   "execution_count": 350,
   "id": "8f45dd6b",
   "metadata": {},
   "outputs": [
    {
     "data": {
      "text/html": [
       "<div>\n",
       "<style scoped>\n",
       "    .dataframe tbody tr th:only-of-type {\n",
       "        vertical-align: middle;\n",
       "    }\n",
       "\n",
       "    .dataframe tbody tr th {\n",
       "        vertical-align: top;\n",
       "    }\n",
       "\n",
       "    .dataframe thead th {\n",
       "        text-align: right;\n",
       "    }\n",
       "</style>\n",
       "<table border=\"1\" class=\"dataframe\">\n",
       "  <thead>\n",
       "    <tr style=\"text-align: right;\">\n",
       "      <th></th>\n",
       "      <th>Rank</th>\n",
       "      <th>Name</th>\n",
       "      <th>Country</th>\n",
       "      <th>Sales</th>\n",
       "      <th>Profits</th>\n",
       "      <th>Assets</th>\n",
       "      <th>MV</th>\n",
       "      <th>Year</th>\n",
       "    </tr>\n",
       "  </thead>\n",
       "  <tbody>\n",
       "  </tbody>\n",
       "</table>\n",
       "</div>"
      ],
      "text/plain": [
       "Empty DataFrame\n",
       "Columns: [Rank, Name, Country, Sales, Profits, Assets, MV, Year]\n",
       "Index: []"
      ]
     },
     "execution_count": 350,
     "metadata": {},
     "output_type": "execute_result"
    }
   ],
   "source": [
    "F18[F18.isnull().any(axis=1)]"
   ]
  },
  {
   "cell_type": "code",
   "execution_count": 351,
   "id": "d3eb9621",
   "metadata": {},
   "outputs": [
    {
     "name": "stdout",
     "output_type": "stream",
     "text": [
      "   Rank                        Name        Country   Sales  Profits   Assets  \\\n",
      "0     1                        ICBC          China  175.87    45.22  4034.48   \n",
      "1     2              JPMorgan Chase  United States  132.91    32.74  2737.19   \n",
      "2     3     China Construction Bank          China  150.31    38.84  3382.42   \n",
      "3     4  Agricultural Bank of China          China  137.46    30.89  3293.11   \n",
      "4     5             Bank of America  United States  111.90    28.54  2377.16   \n",
      "\n",
      "       MV  Year  \n",
      "0  305.06  2019  \n",
      "1  368.50  2019  \n",
      "2  224.99  2019  \n",
      "3  197.05  2019  \n",
      "4  287.34  2019  \n",
      "(2000, 8)\n"
     ]
    }
   ],
   "source": [
    "F19 = pd.read_csv(r\"C:\\Users\\ramolone\\OneDrive - Microsoft\\Documents\\Data Analytics\\Forbes-2019.csv\")\n",
    "print(F19.head())\n",
    "print(F19.shape)"
   ]
  },
  {
   "cell_type": "code",
   "execution_count": 352,
   "id": "5222b628",
   "metadata": {},
   "outputs": [
    {
     "data": {
      "text/plain": [
       "Rank       0\n",
       "Name       0\n",
       "Country    0\n",
       "Sales      2\n",
       "Profits    1\n",
       "Assets     5\n",
       "MV         0\n",
       "Year       0\n",
       "dtype: int64"
      ]
     },
     "execution_count": 352,
     "metadata": {},
     "output_type": "execute_result"
    }
   ],
   "source": [
    "F19.isnull().sum()"
   ]
  },
  {
   "cell_type": "code",
   "execution_count": 353,
   "id": "a9835dab",
   "metadata": {},
   "outputs": [],
   "source": [
    "F19.dropna(subset = [\"Sales\", \"Profits\", \"Assets\"], inplace=True)"
   ]
  },
  {
   "cell_type": "code",
   "execution_count": 354,
   "id": "10081ed2",
   "metadata": {},
   "outputs": [
    {
     "data": {
      "text/html": [
       "<div>\n",
       "<style scoped>\n",
       "    .dataframe tbody tr th:only-of-type {\n",
       "        vertical-align: middle;\n",
       "    }\n",
       "\n",
       "    .dataframe tbody tr th {\n",
       "        vertical-align: top;\n",
       "    }\n",
       "\n",
       "    .dataframe thead th {\n",
       "        text-align: right;\n",
       "    }\n",
       "</style>\n",
       "<table border=\"1\" class=\"dataframe\">\n",
       "  <thead>\n",
       "    <tr style=\"text-align: right;\">\n",
       "      <th></th>\n",
       "      <th>Rank</th>\n",
       "      <th>Name</th>\n",
       "      <th>Country</th>\n",
       "      <th>Sales</th>\n",
       "      <th>Profits</th>\n",
       "      <th>Assets</th>\n",
       "      <th>MV</th>\n",
       "      <th>Year</th>\n",
       "    </tr>\n",
       "  </thead>\n",
       "  <tbody>\n",
       "  </tbody>\n",
       "</table>\n",
       "</div>"
      ],
      "text/plain": [
       "Empty DataFrame\n",
       "Columns: [Rank, Name, Country, Sales, Profits, Assets, MV, Year]\n",
       "Index: []"
      ]
     },
     "execution_count": 354,
     "metadata": {},
     "output_type": "execute_result"
    }
   ],
   "source": [
    "F19[F19.isnull().any(axis=1)]"
   ]
  },
  {
   "cell_type": "code",
   "execution_count": 355,
   "id": "e66ca2c2",
   "metadata": {},
   "outputs": [
    {
     "name": "stdout",
     "output_type": "stream",
     "text": [
      "   Rank                        Name        Country  Sales  Profits  Assets  \\\n",
      "0     1                        ICBC          China  177.2     45.3  4322.5   \n",
      "1     2     China Construction Bank          China  162.1     38.9  3822.0   \n",
      "2     3              JPMorgan Chase  United States  142.9     30.0  3139.4   \n",
      "3     4          Berkshire Hathaway  United States  254.6     81.4   817.7   \n",
      "4     5  Agricultural Bank of China          China  148.7     30.9  3697.5   \n",
      "\n",
      "      MV  Year  \n",
      "0  242.3  2020  \n",
      "1  203.8  2020  \n",
      "2  291.7  2020  \n",
      "3  455.4  2020  \n",
      "4  147.2  2020  \n",
      "(2000, 8)\n"
     ]
    }
   ],
   "source": [
    "F20 = pd.read_csv(r\"C:\\Users\\ramolone\\OneDrive - Microsoft\\Documents\\Data Analytics\\Forbes-2020.csv\")\n",
    "print(F20.head())\n",
    "print(F20.shape)"
   ]
  },
  {
   "cell_type": "code",
   "execution_count": 356,
   "id": "e73137b2",
   "metadata": {},
   "outputs": [
    {
     "data": {
      "text/plain": [
       "Rank       0\n",
       "Name       0\n",
       "Country    0\n",
       "Sales      0\n",
       "Profits    0\n",
       "Assets     0\n",
       "MV         0\n",
       "Year       0\n",
       "dtype: int64"
      ]
     },
     "execution_count": 356,
     "metadata": {},
     "output_type": "execute_result"
    }
   ],
   "source": [
    "F20.isnull().sum()"
   ]
  },
  {
   "cell_type": "code",
   "execution_count": 357,
   "id": "b0f0c23d",
   "metadata": {},
   "outputs": [
    {
     "name": "stdout",
     "output_type": "stream",
     "text": [
      "   Rank                                      Name        Country  Sales  \\\n",
      "0   1.0                                      ICBC          China  190.5   \n",
      "1   2.0                            JPMorgan Chase  United States  136.2   \n",
      "2   3.0                        Berkshire Hathaway  United States  245.5   \n",
      "3   4.0                   China Construction Bank          China  173.5   \n",
      "4   5.0  Saudi Arabian Oil Company (Saudi Aramco)   Saudi Arabia  229.7   \n",
      "\n",
      "   Profits  Assets      MV  Year  \n",
      "0     45.8  4914.7   249.5  2021  \n",
      "1     40.4  3689.3   464.8  2021  \n",
      "2     42.5   873.7   624.4  2021  \n",
      "3     39.3  4301.7   210.4  2021  \n",
      "4     49.3   510.3  1897.2  2021  \n",
      "(2100, 8)\n"
     ]
    }
   ],
   "source": [
    "F21 = pd.read_csv(r\"C:\\Users\\ramolone\\OneDrive - Microsoft\\Documents\\Data Analytics\\Forbes-2021.csv\")\n",
    "print(F21.head())\n",
    "print(F21.shape)"
   ]
  },
  {
   "cell_type": "code",
   "execution_count": 358,
   "id": "6abed26c",
   "metadata": {},
   "outputs": [
    {
     "name": "stdout",
     "output_type": "stream",
     "text": [
      "   New Rank  Rank                                      Name        Country  \\\n",
      "0         1   1.0                                      ICBC          China   \n",
      "1         2   2.0                            JPMorgan Chase  United States   \n",
      "2         3   3.0                        Berkshire Hathaway  United States   \n",
      "3         4   4.0                   China Construction Bank          China   \n",
      "4         5   5.0  Saudi Arabian Oil Company (Saudi Aramco)   Saudi Arabia   \n",
      "\n",
      "   Sales  Profits  Assets      MV  Year  \n",
      "0  190.5     45.8  4914.7   249.5  2021  \n",
      "1  136.2     40.4  3689.3   464.8  2021  \n",
      "2  245.5     42.5   873.7   624.4  2021  \n",
      "3  173.5     39.3  4301.7   210.4  2021  \n",
      "4  229.7     49.3   510.3  1897.2  2021  \n",
      "(2100, 9)\n"
     ]
    }
   ],
   "source": [
    "F21.insert(0, \"New Rank\", range(1, 1+ len(F21)))\n",
    "print(F21.head())\n",
    "print(F21.shape)"
   ]
  },
  {
   "cell_type": "code",
   "execution_count": 359,
   "id": "25058efa",
   "metadata": {},
   "outputs": [],
   "source": [
    "F21 = F21.drop(columns =[\"Rank\"])"
   ]
  },
  {
   "cell_type": "code",
   "execution_count": 360,
   "id": "08b171ef",
   "metadata": {},
   "outputs": [
    {
     "name": "stdout",
     "output_type": "stream",
     "text": [
      "   New Rank                                      Name        Country  Sales  \\\n",
      "0         1                                      ICBC          China  190.5   \n",
      "1         2                            JPMorgan Chase  United States  136.2   \n",
      "2         3                        Berkshire Hathaway  United States  245.5   \n",
      "3         4                   China Construction Bank          China  173.5   \n",
      "4         5  Saudi Arabian Oil Company (Saudi Aramco)   Saudi Arabia  229.7   \n",
      "\n",
      "   Profits  Assets      MV  Year  \n",
      "0     45.8  4914.7   249.5  2021  \n",
      "1     40.4  3689.3   464.8  2021  \n",
      "2     42.5   873.7   624.4  2021  \n",
      "3     39.3  4301.7   210.4  2021  \n",
      "4     49.3   510.3  1897.2  2021  \n",
      "(2000, 8)\n"
     ]
    }
   ],
   "source": [
    "F21 = F21.iloc[: -100, : ]\n",
    "print(F21.head())\n",
    "print(F21.shape)"
   ]
  },
  {
   "cell_type": "code",
   "execution_count": 361,
   "id": "74a25438",
   "metadata": {},
   "outputs": [
    {
     "data": {
      "text/plain": [
       "New Rank    0\n",
       "Name        0\n",
       "Country     0\n",
       "Sales       0\n",
       "Profits     0\n",
       "Assets      1\n",
       "MV          0\n",
       "Year        0\n",
       "dtype: int64"
      ]
     },
     "execution_count": 361,
     "metadata": {},
     "output_type": "execute_result"
    }
   ],
   "source": [
    "F21.isnull().sum()"
   ]
  },
  {
   "cell_type": "code",
   "execution_count": 362,
   "id": "ad76d1e7",
   "metadata": {},
   "outputs": [],
   "source": [
    "F21.dropna(subset = [\"Assets\"], inplace=True)"
   ]
  },
  {
   "cell_type": "code",
   "execution_count": 363,
   "id": "375f4cbc",
   "metadata": {},
   "outputs": [
    {
     "data": {
      "text/html": [
       "<div>\n",
       "<style scoped>\n",
       "    .dataframe tbody tr th:only-of-type {\n",
       "        vertical-align: middle;\n",
       "    }\n",
       "\n",
       "    .dataframe tbody tr th {\n",
       "        vertical-align: top;\n",
       "    }\n",
       "\n",
       "    .dataframe thead th {\n",
       "        text-align: right;\n",
       "    }\n",
       "</style>\n",
       "<table border=\"1\" class=\"dataframe\">\n",
       "  <thead>\n",
       "    <tr style=\"text-align: right;\">\n",
       "      <th></th>\n",
       "      <th>Rank</th>\n",
       "      <th>Name</th>\n",
       "      <th>Country</th>\n",
       "      <th>Sales</th>\n",
       "      <th>Profits</th>\n",
       "      <th>Assets</th>\n",
       "      <th>MV</th>\n",
       "      <th>Year</th>\n",
       "    </tr>\n",
       "  </thead>\n",
       "  <tbody>\n",
       "  </tbody>\n",
       "</table>\n",
       "</div>"
      ],
      "text/plain": [
       "Empty DataFrame\n",
       "Columns: [Rank, Name, Country, Sales, Profits, Assets, MV, Year]\n",
       "Index: []"
      ]
     },
     "execution_count": 363,
     "metadata": {},
     "output_type": "execute_result"
    }
   ],
   "source": [
    "F19[F19.isnull().any(axis=1)]"
   ]
  },
  {
   "cell_type": "code",
   "execution_count": 364,
   "id": "e3e4ef85",
   "metadata": {},
   "outputs": [],
   "source": [
    "F18.rename(columns = {'Rank':'New Rank'}, inplace = True)\n",
    "F19.rename(columns = {'Rank':'New Rank'}, inplace = True)\n",
    "F20.rename(columns = {'Rank':'New Rank'}, inplace = True)"
   ]
  },
  {
   "cell_type": "code",
   "execution_count": 365,
   "id": "4b7c5f26",
   "metadata": {},
   "outputs": [],
   "source": [
    "frames = [F21, F20, F19, F18]\n",
    "FComp = pd.concat(frames)"
   ]
  },
  {
   "cell_type": "code",
   "execution_count": 366,
   "id": "8d7daa3e",
   "metadata": {},
   "outputs": [
    {
     "name": "stdout",
     "output_type": "stream",
     "text": [
      "      New Rank                                      Name        Country  \\\n",
      "0            1                                      ICBC          China   \n",
      "1            2                            JPMorgan Chase  United States   \n",
      "2            3                        Berkshire Hathaway  United States   \n",
      "3            4                   China Construction Bank          China   \n",
      "4            5  Saudi Arabian Oil Company (Saudi Aramco)   Saudi Arabia   \n",
      "...        ...                                       ...            ...   \n",
      "1995      1996                                 Fabege AB         Sweden   \n",
      "1996      1997                           SEI Investments  United States   \n",
      "1997      1998                         Sumec Corporation          China   \n",
      "1998      1999                   BioMarin Pharmaceutical  United States   \n",
      "1999      2000                     China Agri-Industries      Hong Kong   \n",
      "\n",
      "       Sales  Profits   Assets       MV  Year  \n",
      "0     190.50    45.80  4914.70   249.50  2021  \n",
      "1     136.20    40.40  3689.30   464.80  2021  \n",
      "2     245.50    42.50   873.70   624.40  2021  \n",
      "3     173.50    39.30  4301.70   210.40  2021  \n",
      "4     229.70    49.30   510.30  1897.20  2021  \n",
      "...      ...      ...      ...      ...   ...  \n",
      "1995    0.28     0.87     7.48     3.93  2018  \n",
      "1996    1.57     0.46     1.89    10.18  2018  \n",
      "1997   11.29     0.05     6.93     1.21  2018  \n",
      "1998    1.40    -0.14     4.60    15.62  2018  \n",
      "1999   11.27     0.26     8.61     2.22  2018  \n",
      "\n",
      "[7980 rows x 8 columns]\n"
     ]
    }
   ],
   "source": [
    "print(FComp)"
   ]
  },
  {
   "cell_type": "code",
   "execution_count": 367,
   "id": "8277c942",
   "metadata": {},
   "outputs": [
    {
     "data": {
      "text/plain": [
       "New Rank    0\n",
       "Name        0\n",
       "Country     0\n",
       "Sales       0\n",
       "Profits     0\n",
       "Assets      0\n",
       "MV          0\n",
       "Year        0\n",
       "dtype: int64"
      ]
     },
     "execution_count": 367,
     "metadata": {},
     "output_type": "execute_result"
    }
   ],
   "source": [
    "FComp.isnull().sum()"
   ]
  },
  {
   "cell_type": "code",
   "execution_count": 368,
   "id": "dd1116dc",
   "metadata": {},
   "outputs": [
    {
     "data": {
      "text/html": [
       "<div>\n",
       "<style scoped>\n",
       "    .dataframe tbody tr th:only-of-type {\n",
       "        vertical-align: middle;\n",
       "    }\n",
       "\n",
       "    .dataframe tbody tr th {\n",
       "        vertical-align: top;\n",
       "    }\n",
       "\n",
       "    .dataframe thead th {\n",
       "        text-align: right;\n",
       "    }\n",
       "</style>\n",
       "<table border=\"1\" class=\"dataframe\">\n",
       "  <thead>\n",
       "    <tr style=\"text-align: right;\">\n",
       "      <th></th>\n",
       "      <th>New Rank</th>\n",
       "      <th>Name</th>\n",
       "      <th>Country</th>\n",
       "      <th>Sales</th>\n",
       "      <th>Profits</th>\n",
       "      <th>Assets</th>\n",
       "      <th>MV</th>\n",
       "      <th>Year</th>\n",
       "    </tr>\n",
       "  </thead>\n",
       "  <tbody>\n",
       "  </tbody>\n",
       "</table>\n",
       "</div>"
      ],
      "text/plain": [
       "Empty DataFrame\n",
       "Columns: [New Rank, Name, Country, Sales, Profits, Assets, MV, Year]\n",
       "Index: []"
      ]
     },
     "execution_count": 368,
     "metadata": {},
     "output_type": "execute_result"
    }
   ],
   "source": [
    "FComp[FComp.isnull().any(axis=1)]"
   ]
  },
  {
   "cell_type": "code",
   "execution_count": 369,
   "id": "22edb94b",
   "metadata": {},
   "outputs": [
    {
     "name": "stdout",
     "output_type": "stream",
     "text": [
      "Country\n",
      "Argentina                 3\n",
      "Australia                39\n",
      "Austria                   8\n",
      "Bahrain                   1\n",
      "Belgium                  10\n",
      "                       ... \n",
      "Turkey                   10\n",
      "United Arab Emirates     10\n",
      "United Kingdom           88\n",
      "United States           556\n",
      "Vietnam                   4\n",
      "Length: 61, dtype: int64\n"
     ]
    }
   ],
   "source": [
    "TPC18 = F18.groupby('Country').size()\n",
    "print(TPC18)"
   ]
  },
  {
   "cell_type": "code",
   "execution_count": 370,
   "id": "d81e8dae",
   "metadata": {},
   "outputs": [],
   "source": [
    "TPC18 = TPC18.reset_index(name='Count').sort_values(['Count'], ascending=False)"
   ]
  },
  {
   "cell_type": "code",
   "execution_count": 371,
   "id": "28967cf2",
   "metadata": {},
   "outputs": [
    {
     "name": "stdout",
     "output_type": "stream",
     "text": [
      "           Country  Count\n",
      "59   United States    556\n",
      "9            China    230\n",
      "25           Japan    228\n",
      "58  United Kingdom     88\n",
      "50     South Korea     67\n"
     ]
    }
   ],
   "source": [
    "print(TPC18.head())"
   ]
  },
  {
   "cell_type": "code",
   "execution_count": 372,
   "id": "b945ec56",
   "metadata": {},
   "outputs": [
    {
     "name": "stdout",
     "output_type": "stream",
     "text": [
      "Country\n",
      "Argentina                 2\n",
      "Australia                38\n",
      "Austria                   9\n",
      "Bahrain                   1\n",
      "Belgium                  10\n",
      "Bermuda                   4\n",
      "Brazil                   20\n",
      "Canada                   56\n",
      "Chile                     8\n",
      "China                   250\n",
      "Colombia                  6\n",
      "Czech Republic            1\n",
      "Denmark                  12\n",
      "Egypt                     1\n",
      "Finland                   9\n",
      "France                   56\n",
      "Germany                  53\n",
      "Greece                    4\n",
      "Hong Kong                58\n",
      "Hungary                   2\n",
      "India                    55\n",
      "Indonesia                 6\n",
      "Ireland                  18\n",
      "Israel                    9\n",
      "Italy                    27\n",
      "Japan                   223\n",
      "Jordan                    1\n",
      "Kazakhstan                1\n",
      "Kenya                     1\n",
      "Kuwait                    4\n",
      "Lebanon                   2\n",
      "Luxembourg                6\n",
      "Malaysia                  9\n",
      "Mexico                   13\n",
      "Monaco                    1\n",
      "Morocco                   3\n",
      "Netherlands              25\n",
      "Nigeria                   2\n",
      "Norway                    8\n",
      "Oman                      1\n",
      "Peru                      2\n",
      "Philippines               5\n",
      "Poland                    7\n",
      "Portugal                  4\n",
      "Qatar                     6\n",
      "Russia                   22\n",
      "Saudi Arabia             15\n",
      "Singapore                13\n",
      "South Africa             12\n",
      "South Korea              62\n",
      "Spain                    22\n",
      "Sweden                   26\n",
      "Switzerland              41\n",
      "Taiwan                   47\n",
      "Thailand                 15\n",
      "Turkey                    9\n",
      "United Arab Emirates      9\n",
      "United Kingdom           82\n",
      "United States           574\n",
      "Vietnam                   4\n",
      "dtype: int64\n"
     ]
    }
   ],
   "source": [
    "TPC19 = F19.groupby('Country').size()\n",
    "print(TPC19)"
   ]
  },
  {
   "cell_type": "code",
   "execution_count": 373,
   "id": "4f3e6373",
   "metadata": {},
   "outputs": [
    {
     "name": "stdout",
     "output_type": "stream",
     "text": [
      "           Country  Count\n",
      "58   United States    574\n",
      "9            China    250\n",
      "25           Japan    223\n",
      "57  United Kingdom     82\n",
      "49     South Korea     62\n"
     ]
    }
   ],
   "source": [
    "TPC19 = TPC19.reset_index(name='Count').sort_values(['Count'], ascending=False)\n",
    "print(TPC19.head())"
   ]
  },
  {
   "cell_type": "code",
   "execution_count": 374,
   "id": "e4ae4c62",
   "metadata": {},
   "outputs": [
    {
     "name": "stdout",
     "output_type": "stream",
     "text": [
      "Country\n",
      "Argentina                 2\n",
      "Australia                32\n",
      "Austria                   9\n",
      "Bahrain                   1\n",
      "Belgium                   8\n",
      "                       ... \n",
      "United Arab Emirates      9\n",
      "United Kingdom           77\n",
      "United States           587\n",
      "Venezuela                 1\n",
      "Vietnam                   4\n",
      "Length: 64, dtype: int64\n"
     ]
    }
   ],
   "source": [
    "TPC20 = F20.groupby('Country').size()\n",
    "print(TPC20)"
   ]
  },
  {
   "cell_type": "code",
   "execution_count": 375,
   "id": "94296894",
   "metadata": {},
   "outputs": [
    {
     "name": "stdout",
     "output_type": "stream",
     "text": [
      "           Country  Count\n",
      "61   United States    587\n",
      "10           China    266\n",
      "27           Japan    217\n",
      "60  United Kingdom     77\n",
      "7           Canada     61\n"
     ]
    }
   ],
   "source": [
    "TPC20 = TPC20.reset_index(name='Count').sort_values(['Count'], ascending=False)\n",
    "print(TPC20.head())"
   ]
  },
  {
   "cell_type": "code",
   "execution_count": 376,
   "id": "5e2f2dfb",
   "metadata": {},
   "outputs": [
    {
     "name": "stdout",
     "output_type": "stream",
     "text": [
      "Country\n",
      "Argentina                 2\n",
      "Australia                30\n",
      "Austria                   9\n",
      "Bahrain                   1\n",
      "Bangladesh                1\n",
      "                       ... \n",
      "United Arab Emirates      9\n",
      "United Kingdom           66\n",
      "United States           590\n",
      "Venezuela                 1\n",
      "Vietnam                   5\n",
      "Length: 61, dtype: int64\n"
     ]
    }
   ],
   "source": [
    "TPC21 = F21.groupby('Country').size()\n",
    "print(TPC21)"
   ]
  },
  {
   "cell_type": "code",
   "execution_count": 377,
   "id": "e4adacb8",
   "metadata": {},
   "outputs": [
    {
     "name": "stdout",
     "output_type": "stream",
     "text": [
      "           Country  Count\n",
      "58   United States    590\n",
      "10           China    291\n",
      "27           Japan    215\n",
      "57  United Kingdom     66\n",
      "49     South Korea     62\n"
     ]
    }
   ],
   "source": [
    "TPC21 = TPC21.reset_index(name='Count').sort_values(['Count'], ascending=False)\n",
    "print(TPC21.head())"
   ]
  },
  {
   "cell_type": "code",
   "execution_count": 378,
   "id": "232f39d5",
   "metadata": {},
   "outputs": [
    {
     "data": {
      "text/plain": [
       "pandas.core.frame.DataFrame"
      ]
     },
     "execution_count": 378,
     "metadata": {},
     "output_type": "execute_result"
    }
   ],
   "source": [
    "type(TPC21)"
   ]
  },
  {
   "cell_type": "code",
   "execution_count": 379,
   "id": "0bf65c11",
   "metadata": {},
   "outputs": [],
   "source": [
    "merged_df = pd.merge(TPC18, TPC19, on=\"Country\")\n",
    "df = pd.merge(merged_df, TPC20, on=\"Country\")"
   ]
  },
  {
   "cell_type": "code",
   "execution_count": 380,
   "id": "3f9f6c97",
   "metadata": {},
   "outputs": [
    {
     "name": "stdout",
     "output_type": "stream",
     "text": [
      "                 Country  Count_x  Count_y  Count\n",
      "0          United States      556      574    587\n",
      "1                  China      230      250    266\n",
      "2                  Japan      228      223    217\n",
      "3         United Kingdom       88       82     77\n",
      "4            South Korea       67       62     58\n",
      "5              Hong Kong       58       58     58\n",
      "6                 France       57       56     57\n",
      "7                  India       57       55     50\n",
      "8                Germany       53       53     51\n",
      "9                 Canada       51       56     61\n",
      "10                Taiwan       47       47     43\n",
      "11           Switzerland       41       41     41\n",
      "12             Australia       39       38     32\n",
      "13                Sweden       27       26     26\n",
      "14                 Italy       26       27     26\n",
      "15                Russia       25       22     23\n",
      "16                 Spain       24       22     25\n",
      "17           Netherlands       22       25     26\n",
      "18                Brazil       19       20     18\n",
      "19               Ireland       18       18     21\n",
      "20              Thailand       16       15     15\n",
      "21             Singapore       15       13     12\n",
      "22          Saudi Arabia       15       15     14\n",
      "23               Denmark       14       12     11\n",
      "24              Malaysia       13        9     10\n",
      "25                Mexico       12       13     12\n",
      "26          South Africa       11       12     10\n",
      "27                Israel       10        9     12\n",
      "28  United Arab Emirates       10        9      9\n",
      "29               Belgium       10       10      8\n",
      "30                Turkey       10        9      8\n",
      "31                Norway        9        8      8\n",
      "32               Finland        9        9     10\n",
      "33                 Chile        9        8      6\n",
      "34            Luxembourg        8        6      7\n",
      "35               Austria        8        9      9\n",
      "36           Philippines        6        5      7\n",
      "37                Poland        6        7      6\n",
      "38                 Qatar        6        6      6\n",
      "39             Indonesia        6        6      6\n",
      "40              Colombia        6        6      5\n",
      "41               Bermuda        6        4      7\n",
      "42                Greece        5        4      5\n",
      "43              Portugal        5        4      4\n",
      "44               Morocco        4        3      2\n",
      "45               Vietnam        4        4      4\n",
      "46             Argentina        3        2      2\n",
      "47                Kuwait        3        4      3\n",
      "48                  Peru        2        2      2\n",
      "49               Nigeria        2        2      1\n",
      "50               Hungary        2        2      2\n",
      "51               Lebanon        2        2      2\n",
      "52                  Oman        1        1      1\n",
      "53                Monaco        1        1      1\n",
      "54                 Kenya        1        1      1\n",
      "55            Kazakhstan        1        1      1\n",
      "56                Jordan        1        1      1\n",
      "57        Czech Republic        1        1      1\n",
      "58               Bahrain        1        1      1\n"
     ]
    }
   ],
   "source": [
    "print(df)"
   ]
  },
  {
   "cell_type": "code",
   "execution_count": 381,
   "id": "264a01d8",
   "metadata": {},
   "outputs": [
    {
     "name": "stdout",
     "output_type": "stream",
     "text": [
      "                 Country  Count_x  Count_y  Count_x  Count_y\n",
      "0          United States      556      574      587      590\n",
      "1                  China      230      250      266      291\n",
      "2                  Japan      228      223      217      215\n",
      "3         United Kingdom       88       82       77       66\n",
      "4            South Korea       67       62       58       62\n",
      "5              Hong Kong       58       58       58       59\n",
      "6                 France       57       56       57       53\n",
      "7                  India       57       55       50       50\n",
      "8                Germany       53       53       51       54\n",
      "9                 Canada       51       56       61       56\n",
      "10                Taiwan       47       47       43       45\n",
      "11           Switzerland       41       41       41       42\n",
      "12             Australia       39       38       32       30\n",
      "13                Sweden       27       26       26       32\n",
      "14                 Italy       26       27       26       23\n",
      "15                Russia       25       22       23       24\n",
      "16                 Spain       24       22       25       21\n",
      "17           Netherlands       22       25       26       20\n",
      "18                Brazil       19       20       18       21\n",
      "19               Ireland       18       18       21       18\n",
      "20              Thailand       16       15       15       14\n",
      "21             Singapore       15       13       12        9\n",
      "22          Saudi Arabia       15       15       14       13\n",
      "23               Denmark       14       12       11       12\n",
      "24              Malaysia       13        9       10        8\n",
      "25                Mexico       12       13       12       10\n",
      "26          South Africa       11       12       10       15\n",
      "27                Israel       10        9       12       10\n",
      "28  United Arab Emirates       10        9        9        9\n",
      "29               Belgium       10       10        8        9\n",
      "30                Turkey       10        9        8        9\n",
      "31                Norway        9        8        8        8\n",
      "32               Finland        9        9       10        9\n",
      "33                 Chile        9        8        6        5\n",
      "34            Luxembourg        8        6        7        7\n",
      "35               Austria        8        9        9        9\n",
      "36           Philippines        6        5        7        6\n",
      "37                Poland        6        7        6        7\n",
      "38                 Qatar        6        6        6        6\n",
      "39             Indonesia        6        6        6        6\n",
      "40              Colombia        6        6        5        3\n",
      "41               Bermuda        6        4        7        6\n",
      "42                Greece        5        4        5        4\n",
      "43              Portugal        5        4        4        4\n",
      "44               Morocco        4        3        2        3\n",
      "45               Vietnam        4        4        4        5\n",
      "46             Argentina        3        2        2        2\n",
      "47                Kuwait        3        4        3        3\n",
      "48                  Peru        2        2        2        1\n",
      "49               Nigeria        2        2        1        2\n",
      "50               Hungary        2        2        2        2\n",
      "51                  Oman        1        1        1        1\n",
      "52                Monaco        1        1        1        1\n",
      "53                 Kenya        1        1        1        1\n",
      "54            Kazakhstan        1        1        1        2\n",
      "55        Czech Republic        1        1        1        1\n",
      "56               Bahrain        1        1        1        1\n"
     ]
    }
   ],
   "source": [
    "TPC_df = pd.merge(df, TPC21, on=\"Country\")\n",
    "print(TPC_df)"
   ]
  },
  {
   "cell_type": "code",
   "execution_count": 382,
   "id": "c8871878",
   "metadata": {},
   "outputs": [
    {
     "name": "stdout",
     "output_type": "stream",
     "text": [
      "          Country  Count_x  Count_y  Count_x  Count_y\n",
      "0   United States      556      574      587      590\n",
      "1           China      230      250      266      291\n",
      "2           Japan      228      223      217      215\n",
      "3  United Kingdom       88       82       77       66\n",
      "4     South Korea       67       62       58       62\n"
     ]
    }
   ],
   "source": [
    "TPC_df_5 = TPC_df.head()\n",
    "print(TPC_df_5)"
   ]
  },
  {
   "cell_type": "code",
   "execution_count": 383,
   "id": "c64975a0",
   "metadata": {},
   "outputs": [],
   "source": [
    "df_1 = pd.DataFrame([['US', 556, 574, 587, 590], ['China', 230, 250, 266, 291], ['Japan', 228, 223, 217, 215],\n",
    "                   ['UK', 88, 82, 77, 66], ['South Korea', 67, 62, 58, 62]],\n",
    "                  columns=['Country', '# in 2018', '# in 2019', '# in 2020', '# in 2021'])"
   ]
  },
  {
   "cell_type": "code",
   "execution_count": 384,
   "id": "4fa76298",
   "metadata": {},
   "outputs": [
    {
     "name": "stdout",
     "output_type": "stream",
     "text": [
      "       Country  # in 2018  # in 2019  # in 2020  # in 2021\n",
      "0           US        556        574        587        590\n",
      "1        China        230        250        266        291\n",
      "2        Japan        228        223        217        215\n",
      "3           UK         88         82         77         66\n",
      "4  South Korea         67         62         58         62\n"
     ]
    }
   ],
   "source": [
    "print(df_1)"
   ]
  },
  {
   "cell_type": "code",
   "execution_count": 499,
   "id": "2c792c26",
   "metadata": {},
   "outputs": [
    {
     "data": {
      "text/plain": [
       "<AxesSubplot:title={'center':'# of Companies in the Forbes 2000 list YoY, by Country'}, xlabel='Country'>"
      ]
     },
     "execution_count": 499,
     "metadata": {},
     "output_type": "execute_result"
    },
    {
     "data": {
      "image/png": "[encoded data removed]",
      "text/plain": [
       "<Figure size 432x288 with 1 Axes>"
      ]
     },
     "metadata": {},
     "output_type": "display_data"
    }
   ],
   "source": [
    "df_1.plot(x='Country',\n",
    "        kind='bar',\n",
    "        stacked=False,\n",
    "        title='# of Companies in the Forbes 2000 list YoY, by Country')"
   ]
  },
  {
   "cell_type": "code",
   "execution_count": 386,
   "id": "2be58b45",
   "metadata": {},
   "outputs": [],
   "source": [
    "TPC_next5 = TPC_df.iloc[[5,6,7,8,9],[0,1,2,3,4]]"
   ]
  },
  {
   "cell_type": "code",
   "execution_count": 387,
   "id": "5db70846",
   "metadata": {},
   "outputs": [
    {
     "name": "stdout",
     "output_type": "stream",
     "text": [
      "     Country  Count_x  Count_y  Count_x  Count_y\n",
      "5  Hong Kong       58       58       58       59\n",
      "6     France       57       56       57       53\n",
      "7      India       57       55       50       50\n",
      "8    Germany       53       53       51       54\n",
      "9     Canada       51       56       61       56\n"
     ]
    }
   ],
   "source": [
    "print(TPC_next5)"
   ]
  },
  {
   "cell_type": "code",
   "execution_count": 388,
   "id": "787b50a4",
   "metadata": {},
   "outputs": [
    {
     "name": "stdout",
     "output_type": "stream",
     "text": [
      "       Country  Year  New Rank   Sales  Profits   Assets      MV\n",
      "0    Argentina  2018      4565   23.38     2.01    48.70   25.79\n",
      "1    Argentina  2019      2636   16.94     1.33    28.63   28.24\n",
      "2    Argentina  2020      3019   16.20  -878.00    31.10   31.70\n",
      "3    Argentina  2021      3255   13.50  -982.30    29.40   81.90\n",
      "4    Australia  2018     41328  467.48    58.23  3758.66  920.08\n",
      "..         ...   ...       ...     ...      ...      ...     ...\n",
      "241  Venezuela  2021       165   59.00     3.60   637.70   22.30\n",
      "242    Vietnam  2018      6719   14.94     1.31   156.45   33.43\n",
      "243    Vietnam  2019      6330   16.61     1.26   165.53   33.49\n",
      "244    Vietnam  2020      5515   18.50  1872.00   183.70   33.40\n",
      "245    Vietnam  2021      7334   19.50  2430.60   218.60   56.70\n",
      "\n",
      "[246 rows x 7 columns]\n"
     ]
    },
    {
     "data": {
      "text/plain": [
       "pandas.core.frame.DataFrame"
      ]
     },
     "execution_count": 388,
     "metadata": {},
     "output_type": "execute_result"
    }
   ],
   "source": [
    "grouped_multiple = FComp.groupby(['Country', 'Year']).sum().reset_index()\n",
    "\n",
    "print(grouped_multiple)\n",
    "type(grouped_multiple)"
   ]
  },
  {
   "cell_type": "code",
   "execution_count": 389,
   "id": "935e7d9a",
   "metadata": {},
   "outputs": [
    {
     "data": {
      "text/html": [
       "<div>\n",
       "<style scoped>\n",
       "    .dataframe tbody tr th:only-of-type {\n",
       "        vertical-align: middle;\n",
       "    }\n",
       "\n",
       "    .dataframe tbody tr th {\n",
       "        vertical-align: top;\n",
       "    }\n",
       "\n",
       "    .dataframe thead th {\n",
       "        text-align: right;\n",
       "    }\n",
       "</style>\n",
       "<table border=\"1\" class=\"dataframe\">\n",
       "  <thead>\n",
       "    <tr style=\"text-align: right;\">\n",
       "      <th></th>\n",
       "      <th>Country</th>\n",
       "      <th>Year</th>\n",
       "      <th>New Rank</th>\n",
       "      <th>Sales</th>\n",
       "      <th>Profits</th>\n",
       "      <th>Assets</th>\n",
       "      <th>MV</th>\n",
       "    </tr>\n",
       "  </thead>\n",
       "  <tbody>\n",
       "    <tr>\n",
       "      <th>3</th>\n",
       "      <td>Argentina</td>\n",
       "      <td>2021</td>\n",
       "      <td>3255</td>\n",
       "      <td>13.5</td>\n",
       "      <td>-982.3</td>\n",
       "      <td>29.4</td>\n",
       "      <td>81.9</td>\n",
       "    </tr>\n",
       "    <tr>\n",
       "      <th>7</th>\n",
       "      <td>Australia</td>\n",
       "      <td>2021</td>\n",
       "      <td>31283</td>\n",
       "      <td>1524.4</td>\n",
       "      <td>5106.0</td>\n",
       "      <td>3640.3</td>\n",
       "      <td>1149.7</td>\n",
       "    </tr>\n",
       "    <tr>\n",
       "      <th>11</th>\n",
       "      <td>Austria</td>\n",
       "      <td>2021</td>\n",
       "      <td>10570</td>\n",
       "      <td>91.2</td>\n",
       "      <td>3090.3</td>\n",
       "      <td>812.2</td>\n",
       "      <td>88.2</td>\n",
       "    </tr>\n",
       "    <tr>\n",
       "      <th>15</th>\n",
       "      <td>Bahrain</td>\n",
       "      <td>2021</td>\n",
       "      <td>1629</td>\n",
       "      <td>1.7</td>\n",
       "      <td>418.6</td>\n",
       "      <td>40.1</td>\n",
       "      <td>7.2</td>\n",
       "    </tr>\n",
       "    <tr>\n",
       "      <th>16</th>\n",
       "      <td>Bangladesh</td>\n",
       "      <td>2021</td>\n",
       "      <td>1857</td>\n",
       "      <td>1.3</td>\n",
       "      <td>1.2</td>\n",
       "      <td>510.0</td>\n",
       "      <td>34.0</td>\n",
       "    </tr>\n",
       "    <tr>\n",
       "      <th>...</th>\n",
       "      <td>...</td>\n",
       "      <td>...</td>\n",
       "      <td>...</td>\n",
       "      <td>...</td>\n",
       "      <td>...</td>\n",
       "      <td>...</td>\n",
       "      <td>...</td>\n",
       "    </tr>\n",
       "    <tr>\n",
       "      <th>231</th>\n",
       "      <td>United Arab Emirates</td>\n",
       "      <td>2021</td>\n",
       "      <td>7933</td>\n",
       "      <td>57.0</td>\n",
       "      <td>3665.4</td>\n",
       "      <td>788.4</td>\n",
       "      <td>235.6</td>\n",
       "    </tr>\n",
       "    <tr>\n",
       "      <th>235</th>\n",
       "      <td>United Kingdom</td>\n",
       "      <td>2021</td>\n",
       "      <td>58447</td>\n",
       "      <td>2121.6</td>\n",
       "      <td>12319.5</td>\n",
       "      <td>13614.2</td>\n",
       "      <td>2083.9</td>\n",
       "    </tr>\n",
       "    <tr>\n",
       "      <th>239</th>\n",
       "      <td>United States</td>\n",
       "      <td>2021</td>\n",
       "      <td>555543</td>\n",
       "      <td>24547.5</td>\n",
       "      <td>120340.5</td>\n",
       "      <td>52539.1</td>\n",
       "      <td>41033.9</td>\n",
       "    </tr>\n",
       "    <tr>\n",
       "      <th>241</th>\n",
       "      <td>Venezuela</td>\n",
       "      <td>2021</td>\n",
       "      <td>165</td>\n",
       "      <td>59.0</td>\n",
       "      <td>3.6</td>\n",
       "      <td>637.7</td>\n",
       "      <td>22.3</td>\n",
       "    </tr>\n",
       "    <tr>\n",
       "      <th>245</th>\n",
       "      <td>Vietnam</td>\n",
       "      <td>2021</td>\n",
       "      <td>7334</td>\n",
       "      <td>19.5</td>\n",
       "      <td>2430.6</td>\n",
       "      <td>218.6</td>\n",
       "      <td>56.7</td>\n",
       "    </tr>\n",
       "  </tbody>\n",
       "</table>\n",
       "<p>61 rows × 7 columns</p>\n",
       "</div>"
      ],
      "text/plain": [
       "                  Country  Year  New Rank    Sales   Profits   Assets       MV\n",
       "3               Argentina  2021      3255     13.5    -982.3     29.4     81.9\n",
       "7               Australia  2021     31283   1524.4    5106.0   3640.3   1149.7\n",
       "11                Austria  2021     10570     91.2    3090.3    812.2     88.2\n",
       "15                Bahrain  2021      1629      1.7     418.6     40.1      7.2\n",
       "16             Bangladesh  2021      1857      1.3       1.2    510.0     34.0\n",
       "..                    ...   ...       ...      ...       ...      ...      ...\n",
       "231  United Arab Emirates  2021      7933     57.0    3665.4    788.4    235.6\n",
       "235        United Kingdom  2021     58447   2121.6   12319.5  13614.2   2083.9\n",
       "239         United States  2021    555543  24547.5  120340.5  52539.1  41033.9\n",
       "241             Venezuela  2021       165     59.0       3.6    637.7     22.3\n",
       "245               Vietnam  2021      7334     19.5    2430.6    218.6     56.7\n",
       "\n",
       "[61 rows x 7 columns]"
      ]
     },
     "execution_count": 389,
     "metadata": {},
     "output_type": "execute_result"
    }
   ],
   "source": [
    "grouped_multiple[grouped_multiple.Year == 2021]"
   ]
  },
  {
   "cell_type": "code",
   "execution_count": 390,
   "id": "8085611e",
   "metadata": {},
   "outputs": [],
   "source": [
    "country_mv = grouped_multiple.groupby(\"Country\").sum(\"MV\").reset_index()"
   ]
  },
  {
   "cell_type": "code",
   "execution_count": 391,
   "id": "6761be99",
   "metadata": {},
   "outputs": [
    {
     "name": "stdout",
     "output_type": "stream",
     "text": [
      "                 Country  Year  New Rank     Sales    Profits     Assets  \\\n",
      "0              Argentina  8078     13475     70.02   -1856.96     137.83   \n",
      "1              Australia  8078    144294   3519.49   14812.64   14383.35   \n",
      "2                Austria  8078     38985    384.88    5301.43    2647.86   \n",
      "3                Bahrain  8078      5585      7.35    1114.86     149.82   \n",
      "4             Bangladesh  2021      1857      1.30       1.20     510.00   \n",
      "..                   ...   ...       ...       ...        ...        ...   \n",
      "60  United Arab Emirates  8078     32775    223.00    4847.37    2825.88   \n",
      "61        United Kingdom  8078    290950   8844.68   27995.59   53075.06   \n",
      "62         United States  8078   2197396  74480.15  261952.53  186622.78   \n",
      "63             Venezuela  4041      1923     61.60       5.10    1489.70   \n",
      "64               Vietnam  8078     25898     69.55    4305.17     724.28   \n",
      "\n",
      "           MV  \n",
      "0      167.63  \n",
      "1     3651.37  \n",
      "2      470.11  \n",
      "3       25.42  \n",
      "4       34.00  \n",
      "..        ...  \n",
      "60     664.77  \n",
      "61    9186.37  \n",
      "62  121926.73  \n",
      "63     331.30  \n",
      "64     157.02  \n",
      "\n",
      "[65 rows x 7 columns]\n"
     ]
    }
   ],
   "source": [
    "print(country_mv)"
   ]
  },
  {
   "cell_type": "code",
   "execution_count": 392,
   "id": "583f8045",
   "metadata": {},
   "outputs": [],
   "source": [
    "top_5_mv = country_mv.nlargest(5, \"MV\")"
   ]
  },
  {
   "cell_type": "code",
   "execution_count": 393,
   "id": "c3586ea4",
   "metadata": {},
   "outputs": [
    {
     "name": "stdout",
     "output_type": "stream",
     "text": [
      "           Country  Year  New Rank     Sales    Profits     Assets         MV\n",
      "62   United States  8078   2197396  74480.15  261952.53  186622.78  121926.73\n",
      "28           Japan  8078    935851  40160.58  100018.00   90233.82   37766.34\n",
      "11           China  8078   1058738  30489.35  162633.89  157596.39   29529.22\n",
      "19         Germany  8078    174530   8458.88   17552.51   28935.82   10191.53\n",
      "61  United Kingdom  8078    290950   8844.68   27995.59   53075.06    9186.37\n"
     ]
    }
   ],
   "source": [
    "print(top_5_mv)"
   ]
  },
  {
   "cell_type": "code",
   "execution_count": 394,
   "id": "8e8620de",
   "metadata": {},
   "outputs": [],
   "source": [
    "country_sales = grouped_multiple.groupby(\"Country\").sum(\"Sales\").reset_index()"
   ]
  },
  {
   "cell_type": "code",
   "execution_count": 395,
   "id": "1f93d5e9",
   "metadata": {},
   "outputs": [],
   "source": [
    "top_5_sales = country_sales.nlargest(5, \"Sales\")"
   ]
  },
  {
   "cell_type": "code",
   "execution_count": 396,
   "id": "a4d61d9c",
   "metadata": {},
   "outputs": [
    {
     "name": "stdout",
     "output_type": "stream",
     "text": [
      "           Country  Year  New Rank     Sales    Profits     Assets         MV\n",
      "62   United States  8078   2197396  74480.15  261952.53  186622.78  121926.73\n",
      "28           Japan  8078    935851  40160.58  100018.00   90233.82   37766.34\n",
      "11           China  8078   1058738  30489.35  162633.89  157596.39   29529.22\n",
      "61  United Kingdom  8078    290950   8844.68   27995.59   53075.06    9186.37\n",
      "19         Germany  8078    174530   8458.88   17552.51   28935.82   10191.53\n"
     ]
    }
   ],
   "source": [
    "print(top_5_sales)"
   ]
  },
  {
   "cell_type": "code",
   "execution_count": 397,
   "id": "6a1558a0",
   "metadata": {},
   "outputs": [],
   "source": [
    "search_values = ['United States','Japan', 'China', 'Germany', 'United Kingdom']"
   ]
  },
  {
   "cell_type": "code",
   "execution_count": 398,
   "id": "eea00f49",
   "metadata": {},
   "outputs": [],
   "source": [
    "top_5_sales_mv = grouped_multiple[grouped_multiple.Country.str.contains('|'.join(search_values ))]"
   ]
  },
  {
   "cell_type": "code",
   "execution_count": 399,
   "id": "6fc53834",
   "metadata": {},
   "outputs": [
    {
     "name": "stdout",
     "output_type": "stream",
     "text": [
      "            Country  Year  New Rank     Sales    Profits    Assets        MV\n",
      "38            China  2018    235305   4901.84     472.37  36027.58   6289.36\n",
      "39            China  2019    258084   5675.01     485.72  35393.51   6497.46\n",
      "40            China  2020    276000   9526.60   79378.70  39962.30   5979.20\n",
      "41            China  2021    289349  10385.90   82297.10  46213.00  10763.20\n",
      "68          Germany  2018     41120   2002.24     125.81   7116.55   1720.83\n",
      "69          Germany  2019     43414   1990.94     110.10   6818.07   1493.90\n",
      "70          Germany  2020     42762   2512.30    9177.20   7094.70   4979.40\n",
      "71          Germany  2021     47234   1953.40    8139.40   7906.50   1997.40\n",
      "104           Japan  2018    240945   4461.65     272.22  21174.21   3835.29\n",
      "105           Japan  2019    235102   4677.43     281.38  21467.01   3400.25\n",
      "106           Japan  2020    225438  15925.00   54978.80  22511.70  14362.30\n",
      "107           Japan  2021    234366  15096.50   44485.60  25080.90  16168.50\n",
      "232  United Kingdom  2018     81810   1916.41     167.89  13239.39   2421.43\n",
      "233  United Kingdom  2019     80941   1770.37     132.30  12424.87   2221.04\n",
      "234  United Kingdom  2020     69752   3036.30   15375.90  13796.60   2460.00\n",
      "235  United Kingdom  2021     58447   2121.60   12319.50  13614.20   2083.90\n",
      "236   United States  2018    526412  12334.78    1082.99  41479.85  24516.73\n",
      "237   United States  2019    544365  13071.67    1218.04  43088.43  25952.00\n",
      "238   United States  2020    571076  24526.20  139311.00  49515.40  30424.10\n",
      "239   United States  2021    555543  24547.50  120340.50  52539.10  41033.90\n"
     ]
    },
    {
     "data": {
      "text/plain": [
       "pandas.core.frame.DataFrame"
      ]
     },
     "execution_count": 399,
     "metadata": {},
     "output_type": "execute_result"
    }
   ],
   "source": [
    "print(top_5_sales_mv)\n",
    "type(top_5_sales_mv)"
   ]
  },
  {
   "cell_type": "code",
   "execution_count": 400,
   "id": "eb74792b",
   "metadata": {},
   "outputs": [
    {
     "data": {
      "text/plain": [
       "<AxesSubplot:title={'center':'Grouped Bar Graph with dataframe'}, xlabel='Country'>"
      ]
     },
     "execution_count": 400,
     "metadata": {},
     "output_type": "execute_result"
    },
    {
     "data": {
      "image/png": "[encoded data removed]",
      "text/plain": [
       "<Figure size 432x288 with 1 Axes>"
      ]
     },
     "metadata": {
      "needs_background": "light"
     },
     "output_type": "display_data"
    }
   ],
   "source": [
    "df.plot(x='Country',\n",
    "        kind='bar',\n",
    "        stacked=False,\n",
    "        title='Grouped Bar Graph with dataframe')"
   ]
  },
  {
   "cell_type": "code",
   "execution_count": 401,
   "id": "75db66e7",
   "metadata": {},
   "outputs": [],
   "source": [
    "slice_mv = top_5_sales_mv[[\"Country\", \"Year\", \"MV\"]],"
   ]
  },
  {
   "cell_type": "code",
   "execution_count": 402,
   "id": "ed6c81fa",
   "metadata": {},
   "outputs": [
    {
     "name": "stdout",
     "output_type": "stream",
     "text": [
      "(            Country  Year        MV\n",
      "38            China  2018   6289.36\n",
      "39            China  2019   6497.46\n",
      "40            China  2020   5979.20\n",
      "41            China  2021  10763.20\n",
      "68          Germany  2018   1720.83\n",
      "69          Germany  2019   1493.90\n",
      "70          Germany  2020   4979.40\n",
      "71          Germany  2021   1997.40\n",
      "104           Japan  2018   3835.29\n",
      "105           Japan  2019   3400.25\n",
      "106           Japan  2020  14362.30\n",
      "107           Japan  2021  16168.50\n",
      "232  United Kingdom  2018   2421.43\n",
      "233  United Kingdom  2019   2221.04\n",
      "234  United Kingdom  2020   2460.00\n",
      "235  United Kingdom  2021   2083.90\n",
      "236   United States  2018  24516.73\n",
      "237   United States  2019  25952.00\n",
      "238   United States  2020  30424.10\n",
      "239   United States  2021  41033.90,)\n"
     ]
    },
    {
     "data": {
      "text/plain": [
       "tuple"
      ]
     },
     "execution_count": 402,
     "metadata": {},
     "output_type": "execute_result"
    }
   ],
   "source": [
    "print(slice_mv)\n",
    "type(slice_mv)"
   ]
  },
  {
   "cell_type": "code",
   "execution_count": 403,
   "id": "ea1bf63e",
   "metadata": {},
   "outputs": [],
   "source": [
    "df_mv_5 = pd.DataFrame([['US', 24516, 25952, 30424, 41033], ['China', 6289, 6497, 5979, 10763], ['Japan', 3835, 3400, 14362, 16168],\n",
    "                   ['UK', 2421, 2221, 2460, 2083], ['Germany', 1720, 1493, 4979, 1997]],\n",
    "                  columns=['Country', '2018', '2019', '2020', '2021'])"
   ]
  },
  {
   "cell_type": "code",
   "execution_count": 404,
   "id": "bb82c0c0",
   "metadata": {},
   "outputs": [
    {
     "name": "stdout",
     "output_type": "stream",
     "text": [
      "   Country   2018   2019   2020   2021\n",
      "0       US  24516  25952  30424  41033\n",
      "1    China   6289   6497   5979  10763\n",
      "2    Japan   3835   3400  14362  16168\n",
      "3       UK   2421   2221   2460   2083\n",
      "4  Germany   1720   1493   4979   1997\n"
     ]
    }
   ],
   "source": [
    "print(df_mv_5)"
   ]
  },
  {
   "cell_type": "code",
   "execution_count": 405,
   "id": "46208b78",
   "metadata": {},
   "outputs": [
    {
     "data": {
      "text/plain": [
       "<AxesSubplot:title={'center':'Market Value Trends by Country'}, xlabel='Country'>"
      ]
     },
     "execution_count": 405,
     "metadata": {},
     "output_type": "execute_result"
    },
    {
     "data": {
      "image/png": "[encoded data removed]",
      "text/plain": [
       "<Figure size 432x288 with 1 Axes>"
      ]
     },
     "metadata": {
      "needs_background": "light"
     },
     "output_type": "display_data"
    }
   ],
   "source": [
    "df_mv_5.plot(x='Country',\n",
    "        kind='bar',\n",
    "        stacked=False,\n",
    "        title='Market Value Trends by Country')"
   ]
  },
  {
   "cell_type": "code",
   "execution_count": 406,
   "id": "3374ebba",
   "metadata": {},
   "outputs": [],
   "source": [
    "US_only = pd.read_csv(r\"C:\\Users\\ramolone\\OneDrive - Microsoft\\Documents\\Data Analytics\\Forbes_21_US.csv\")"
   ]
  },
  {
   "cell_type": "code",
   "execution_count": 407,
   "id": "a378875a",
   "metadata": {},
   "outputs": [
    {
     "data": {
      "text/html": [
       "<div>\n",
       "<style scoped>\n",
       "    .dataframe tbody tr th:only-of-type {\n",
       "        vertical-align: middle;\n",
       "    }\n",
       "\n",
       "    .dataframe tbody tr th {\n",
       "        vertical-align: top;\n",
       "    }\n",
       "\n",
       "    .dataframe thead th {\n",
       "        text-align: right;\n",
       "    }\n",
       "</style>\n",
       "<table border=\"1\" class=\"dataframe\">\n",
       "  <thead>\n",
       "    <tr style=\"text-align: right;\">\n",
       "      <th></th>\n",
       "      <th>Company Name</th>\n",
       "      <th>Country</th>\n",
       "      <th>Sales</th>\n",
       "      <th>Profits</th>\n",
       "      <th>Assets</th>\n",
       "      <th>MarketValue</th>\n",
       "    </tr>\n",
       "  </thead>\n",
       "  <tbody>\n",
       "    <tr>\n",
       "      <th>0</th>\n",
       "      <td>JPMorgan Chase</td>\n",
       "      <td>United States</td>\n",
       "      <td>136.2</td>\n",
       "      <td>40.4</td>\n",
       "      <td>3689.3</td>\n",
       "      <td>464.8</td>\n",
       "    </tr>\n",
       "    <tr>\n",
       "      <th>1</th>\n",
       "      <td>Berkshire Hathaway</td>\n",
       "      <td>United States</td>\n",
       "      <td>245.5</td>\n",
       "      <td>42.5</td>\n",
       "      <td>873.7</td>\n",
       "      <td>624.4</td>\n",
       "    </tr>\n",
       "    <tr>\n",
       "      <th>2</th>\n",
       "      <td>Apple</td>\n",
       "      <td>United States</td>\n",
       "      <td>294.0</td>\n",
       "      <td>63.9</td>\n",
       "      <td>354.1</td>\n",
       "      <td>2252.3</td>\n",
       "    </tr>\n",
       "    <tr>\n",
       "      <th>3</th>\n",
       "      <td>Bank of America</td>\n",
       "      <td>United States</td>\n",
       "      <td>98.8</td>\n",
       "      <td>17.9</td>\n",
       "      <td>2832.2</td>\n",
       "      <td>336.3</td>\n",
       "    </tr>\n",
       "    <tr>\n",
       "      <th>4</th>\n",
       "      <td>Amazon</td>\n",
       "      <td>United States</td>\n",
       "      <td>386.1</td>\n",
       "      <td>21.3</td>\n",
       "      <td>321.2</td>\n",
       "      <td>1711.8</td>\n",
       "    </tr>\n",
       "    <tr>\n",
       "      <th>...</th>\n",
       "      <td>...</td>\n",
       "      <td>...</td>\n",
       "      <td>...</td>\n",
       "      <td>...</td>\n",
       "      <td>...</td>\n",
       "      <td>...</td>\n",
       "    </tr>\n",
       "    <tr>\n",
       "      <th>585</th>\n",
       "      <td>Slack Technologies</td>\n",
       "      <td>United States</td>\n",
       "      <td>903.0</td>\n",
       "      <td>-300.4</td>\n",
       "      <td>2.4</td>\n",
       "      <td>24.6</td>\n",
       "    </tr>\n",
       "    <tr>\n",
       "      <th>586</th>\n",
       "      <td>Penn National Gaming</td>\n",
       "      <td>United States</td>\n",
       "      <td>3.6</td>\n",
       "      <td>-669.5</td>\n",
       "      <td>17.1</td>\n",
       "      <td>15.6</td>\n",
       "    </tr>\n",
       "    <tr>\n",
       "      <th>587</th>\n",
       "      <td>Pinnacle Bank</td>\n",
       "      <td>United States</td>\n",
       "      <td>1.3</td>\n",
       "      <td>312.3</td>\n",
       "      <td>35.0</td>\n",
       "      <td>7.0</td>\n",
       "    </tr>\n",
       "    <tr>\n",
       "      <th>588</th>\n",
       "      <td>HubSpot</td>\n",
       "      <td>United States</td>\n",
       "      <td>883.0</td>\n",
       "      <td>-85.0</td>\n",
       "      <td>2.0</td>\n",
       "      <td>24.1</td>\n",
       "    </tr>\n",
       "    <tr>\n",
       "      <th>589</th>\n",
       "      <td>Paycom</td>\n",
       "      <td>United States</td>\n",
       "      <td>841.0</td>\n",
       "      <td>143.4</td>\n",
       "      <td>2.6</td>\n",
       "      <td>24.0</td>\n",
       "    </tr>\n",
       "  </tbody>\n",
       "</table>\n",
       "<p>590 rows × 6 columns</p>\n",
       "</div>"
      ],
      "text/plain": [
       "             Company Name        Country  Sales  Profits  Assets  MarketValue\n",
       "0          JPMorgan Chase  United States  136.2     40.4  3689.3        464.8\n",
       "1      Berkshire Hathaway  United States  245.5     42.5   873.7        624.4\n",
       "2                   Apple  United States  294.0     63.9   354.1       2252.3\n",
       "3         Bank of America  United States   98.8     17.9  2832.2        336.3\n",
       "4                  Amazon  United States  386.1     21.3   321.2       1711.8\n",
       "..                    ...            ...    ...      ...     ...          ...\n",
       "585    Slack Technologies  United States  903.0   -300.4     2.4         24.6\n",
       "586  Penn National Gaming  United States    3.6   -669.5    17.1         15.6\n",
       "587         Pinnacle Bank  United States    1.3    312.3    35.0          7.0\n",
       "588               HubSpot  United States  883.0    -85.0     2.0         24.1\n",
       "589                Paycom  United States  841.0    143.4     2.6         24.0\n",
       "\n",
       "[590 rows x 6 columns]"
      ]
     },
     "execution_count": 407,
     "metadata": {},
     "output_type": "execute_result"
    }
   ],
   "source": [
    "US_only"
   ]
  },
  {
   "cell_type": "code",
   "execution_count": 408,
   "id": "0ae5e8fb",
   "metadata": {},
   "outputs": [],
   "source": [
    "Fortune_data = pd.read_csv(r\"C:\\Users\\ramolone\\OneDrive - Microsoft\\Documents\\Data Analytics\\Fortune_1000_data.csv\")"
   ]
  },
  {
   "cell_type": "code",
   "execution_count": 410,
   "id": "741b4b31",
   "metadata": {},
   "outputs": [
    {
     "data": {
      "text/html": [
       "<div>\n",
       "<style scoped>\n",
       "    .dataframe tbody tr th:only-of-type {\n",
       "        vertical-align: middle;\n",
       "    }\n",
       "\n",
       "    .dataframe tbody tr th {\n",
       "        vertical-align: top;\n",
       "    }\n",
       "\n",
       "    .dataframe thead th {\n",
       "        text-align: right;\n",
       "    }\n",
       "</style>\n",
       "<table border=\"1\" class=\"dataframe\">\n",
       "  <thead>\n",
       "    <tr style=\"text-align: right;\">\n",
       "      <th></th>\n",
       "      <th>Company Name</th>\n",
       "      <th>num. of employees</th>\n",
       "      <th>sector</th>\n",
       "      <th>city</th>\n",
       "      <th>state</th>\n",
       "      <th>profitable</th>\n",
       "    </tr>\n",
       "  </thead>\n",
       "  <tbody>\n",
       "    <tr>\n",
       "      <th>0</th>\n",
       "      <td>Walmart</td>\n",
       "      <td>2200000</td>\n",
       "      <td>Retailing</td>\n",
       "      <td>Bentonville</td>\n",
       "      <td>AR</td>\n",
       "      <td>yes</td>\n",
       "    </tr>\n",
       "    <tr>\n",
       "      <th>1</th>\n",
       "      <td>Amazon</td>\n",
       "      <td>798000</td>\n",
       "      <td>Retailing</td>\n",
       "      <td>Seattle</td>\n",
       "      <td>WA</td>\n",
       "      <td>yes</td>\n",
       "    </tr>\n",
       "    <tr>\n",
       "      <th>2</th>\n",
       "      <td>Exxon Mobil</td>\n",
       "      <td>74900</td>\n",
       "      <td>Energy</td>\n",
       "      <td>Irving</td>\n",
       "      <td>TX</td>\n",
       "      <td>yes</td>\n",
       "    </tr>\n",
       "    <tr>\n",
       "      <th>3</th>\n",
       "      <td>Apple</td>\n",
       "      <td>137000</td>\n",
       "      <td>Technology</td>\n",
       "      <td>Cupertino</td>\n",
       "      <td>CA</td>\n",
       "      <td>yes</td>\n",
       "    </tr>\n",
       "    <tr>\n",
       "      <th>4</th>\n",
       "      <td>CVS Health</td>\n",
       "      <td>290000</td>\n",
       "      <td>Health Care</td>\n",
       "      <td>Woonsocket</td>\n",
       "      <td>RI</td>\n",
       "      <td>yes</td>\n",
       "    </tr>\n",
       "    <tr>\n",
       "      <th>...</th>\n",
       "      <td>...</td>\n",
       "      <td>...</td>\n",
       "      <td>...</td>\n",
       "      <td>...</td>\n",
       "      <td>...</td>\n",
       "      <td>...</td>\n",
       "    </tr>\n",
       "    <tr>\n",
       "      <th>995</th>\n",
       "      <td>Mr. Cooper Group</td>\n",
       "      <td>9100</td>\n",
       "      <td>Financials</td>\n",
       "      <td>Coppell</td>\n",
       "      <td>TX</td>\n",
       "      <td>yes</td>\n",
       "    </tr>\n",
       "    <tr>\n",
       "      <th>996</th>\n",
       "      <td>Herc Holdings</td>\n",
       "      <td>5100</td>\n",
       "      <td>Business Services</td>\n",
       "      <td>Bonita Springs</td>\n",
       "      <td>FL</td>\n",
       "      <td>yes</td>\n",
       "    </tr>\n",
       "    <tr>\n",
       "      <th>997</th>\n",
       "      <td>Healthpeak Properties</td>\n",
       "      <td>204</td>\n",
       "      <td>Financials</td>\n",
       "      <td>Irvine</td>\n",
       "      <td>CA</td>\n",
       "      <td>yes</td>\n",
       "    </tr>\n",
       "    <tr>\n",
       "      <th>998</th>\n",
       "      <td>SPX FLOW</td>\n",
       "      <td>5000</td>\n",
       "      <td>Industrials</td>\n",
       "      <td>Charlotte</td>\n",
       "      <td>NC</td>\n",
       "      <td>no</td>\n",
       "    </tr>\n",
       "    <tr>\n",
       "      <th>999</th>\n",
       "      <td>Liberty Oilfield Services</td>\n",
       "      <td>2571</td>\n",
       "      <td>Energy</td>\n",
       "      <td>Denver</td>\n",
       "      <td>CO</td>\n",
       "      <td>yes</td>\n",
       "    </tr>\n",
       "  </tbody>\n",
       "</table>\n",
       "<p>1000 rows × 6 columns</p>\n",
       "</div>"
      ],
      "text/plain": [
       "                  Company Name  num. of employees             sector  \\\n",
       "0                      Walmart            2200000          Retailing   \n",
       "1                       Amazon             798000          Retailing   \n",
       "2                  Exxon Mobil              74900             Energy   \n",
       "3                        Apple             137000         Technology   \n",
       "4                   CVS Health             290000        Health Care   \n",
       "..                         ...                ...                ...   \n",
       "995           Mr. Cooper Group               9100         Financials   \n",
       "996              Herc Holdings               5100  Business Services   \n",
       "997      Healthpeak Properties                204         Financials   \n",
       "998                   SPX FLOW               5000        Industrials   \n",
       "999  Liberty Oilfield Services               2571             Energy   \n",
       "\n",
       "               city state profitable  \n",
       "0       Bentonville    AR        yes  \n",
       "1           Seattle    WA        yes  \n",
       "2            Irving    TX        yes  \n",
       "3         Cupertino    CA        yes  \n",
       "4        Woonsocket    RI        yes  \n",
       "..              ...   ...        ...  \n",
       "995         Coppell    TX        yes  \n",
       "996  Bonita Springs    FL        yes  \n",
       "997          Irvine    CA        yes  \n",
       "998       Charlotte    NC         no  \n",
       "999          Denver    CO        yes  \n",
       "\n",
       "[1000 rows x 6 columns]"
      ]
     },
     "execution_count": 410,
     "metadata": {},
     "output_type": "execute_result"
    }
   ],
   "source": [
    "Fortune_data"
   ]
  },
  {
   "cell_type": "code",
   "execution_count": 411,
   "id": "d4e9ec7a",
   "metadata": {},
   "outputs": [],
   "source": [
    "US_merge = pd.merge(US_only, Fortune_data, on=\"Company Name\", how=\"left\")"
   ]
  },
  {
   "cell_type": "code",
   "execution_count": 412,
   "id": "6182b6a0",
   "metadata": {},
   "outputs": [
    {
     "data": {
      "text/html": [
       "<div>\n",
       "<style scoped>\n",
       "    .dataframe tbody tr th:only-of-type {\n",
       "        vertical-align: middle;\n",
       "    }\n",
       "\n",
       "    .dataframe tbody tr th {\n",
       "        vertical-align: top;\n",
       "    }\n",
       "\n",
       "    .dataframe thead th {\n",
       "        text-align: right;\n",
       "    }\n",
       "</style>\n",
       "<table border=\"1\" class=\"dataframe\">\n",
       "  <thead>\n",
       "    <tr style=\"text-align: right;\">\n",
       "      <th></th>\n",
       "      <th>Company Name</th>\n",
       "      <th>Country</th>\n",
       "      <th>Sales</th>\n",
       "      <th>Profits</th>\n",
       "      <th>Assets</th>\n",
       "      <th>MarketValue</th>\n",
       "      <th>num. of employees</th>\n",
       "      <th>sector</th>\n",
       "      <th>city</th>\n",
       "      <th>state</th>\n",
       "      <th>profitable</th>\n",
       "    </tr>\n",
       "  </thead>\n",
       "  <tbody>\n",
       "    <tr>\n",
       "      <th>0</th>\n",
       "      <td>JPMorgan Chase</td>\n",
       "      <td>United States</td>\n",
       "      <td>136.2</td>\n",
       "      <td>40.4</td>\n",
       "      <td>3689.3</td>\n",
       "      <td>464.8</td>\n",
       "      <td>256981.0</td>\n",
       "      <td>Financials</td>\n",
       "      <td>New York</td>\n",
       "      <td>NY</td>\n",
       "      <td>yes</td>\n",
       "    </tr>\n",
       "    <tr>\n",
       "      <th>1</th>\n",
       "      <td>Berkshire Hathaway</td>\n",
       "      <td>United States</td>\n",
       "      <td>245.5</td>\n",
       "      <td>42.5</td>\n",
       "      <td>873.7</td>\n",
       "      <td>624.4</td>\n",
       "      <td>391500.0</td>\n",
       "      <td>Financials</td>\n",
       "      <td>Omaha</td>\n",
       "      <td>NE</td>\n",
       "      <td>yes</td>\n",
       "    </tr>\n",
       "    <tr>\n",
       "      <th>2</th>\n",
       "      <td>Apple</td>\n",
       "      <td>United States</td>\n",
       "      <td>294.0</td>\n",
       "      <td>63.9</td>\n",
       "      <td>354.1</td>\n",
       "      <td>2252.3</td>\n",
       "      <td>137000.0</td>\n",
       "      <td>Technology</td>\n",
       "      <td>Cupertino</td>\n",
       "      <td>CA</td>\n",
       "      <td>yes</td>\n",
       "    </tr>\n",
       "    <tr>\n",
       "      <th>3</th>\n",
       "      <td>Bank of America</td>\n",
       "      <td>United States</td>\n",
       "      <td>98.8</td>\n",
       "      <td>17.9</td>\n",
       "      <td>2832.2</td>\n",
       "      <td>336.3</td>\n",
       "      <td>208131.0</td>\n",
       "      <td>Financials</td>\n",
       "      <td>Charlotte</td>\n",
       "      <td>NC</td>\n",
       "      <td>yes</td>\n",
       "    </tr>\n",
       "    <tr>\n",
       "      <th>4</th>\n",
       "      <td>Amazon</td>\n",
       "      <td>United States</td>\n",
       "      <td>386.1</td>\n",
       "      <td>21.3</td>\n",
       "      <td>321.2</td>\n",
       "      <td>1711.8</td>\n",
       "      <td>798000.0</td>\n",
       "      <td>Retailing</td>\n",
       "      <td>Seattle</td>\n",
       "      <td>WA</td>\n",
       "      <td>yes</td>\n",
       "    </tr>\n",
       "    <tr>\n",
       "      <th>...</th>\n",
       "      <td>...</td>\n",
       "      <td>...</td>\n",
       "      <td>...</td>\n",
       "      <td>...</td>\n",
       "      <td>...</td>\n",
       "      <td>...</td>\n",
       "      <td>...</td>\n",
       "      <td>...</td>\n",
       "      <td>...</td>\n",
       "      <td>...</td>\n",
       "      <td>...</td>\n",
       "    </tr>\n",
       "    <tr>\n",
       "      <th>585</th>\n",
       "      <td>Slack Technologies</td>\n",
       "      <td>United States</td>\n",
       "      <td>903.0</td>\n",
       "      <td>-300.4</td>\n",
       "      <td>2.4</td>\n",
       "      <td>24.6</td>\n",
       "      <td>NaN</td>\n",
       "      <td>NaN</td>\n",
       "      <td>NaN</td>\n",
       "      <td>NaN</td>\n",
       "      <td>NaN</td>\n",
       "    </tr>\n",
       "    <tr>\n",
       "      <th>586</th>\n",
       "      <td>Penn National Gaming</td>\n",
       "      <td>United States</td>\n",
       "      <td>3.6</td>\n",
       "      <td>-669.5</td>\n",
       "      <td>17.1</td>\n",
       "      <td>15.6</td>\n",
       "      <td>28300.0</td>\n",
       "      <td>Hotels, Restaurants &amp; Leisure</td>\n",
       "      <td>Wyomissing</td>\n",
       "      <td>PA</td>\n",
       "      <td>yes</td>\n",
       "    </tr>\n",
       "    <tr>\n",
       "      <th>587</th>\n",
       "      <td>Pinnacle Bank</td>\n",
       "      <td>United States</td>\n",
       "      <td>1.3</td>\n",
       "      <td>312.3</td>\n",
       "      <td>35.0</td>\n",
       "      <td>7.0</td>\n",
       "      <td>NaN</td>\n",
       "      <td>NaN</td>\n",
       "      <td>NaN</td>\n",
       "      <td>NaN</td>\n",
       "      <td>NaN</td>\n",
       "    </tr>\n",
       "    <tr>\n",
       "      <th>588</th>\n",
       "      <td>HubSpot</td>\n",
       "      <td>United States</td>\n",
       "      <td>883.0</td>\n",
       "      <td>-85.0</td>\n",
       "      <td>2.0</td>\n",
       "      <td>24.1</td>\n",
       "      <td>NaN</td>\n",
       "      <td>NaN</td>\n",
       "      <td>NaN</td>\n",
       "      <td>NaN</td>\n",
       "      <td>NaN</td>\n",
       "    </tr>\n",
       "    <tr>\n",
       "      <th>589</th>\n",
       "      <td>Paycom</td>\n",
       "      <td>United States</td>\n",
       "      <td>841.0</td>\n",
       "      <td>143.4</td>\n",
       "      <td>2.6</td>\n",
       "      <td>24.0</td>\n",
       "      <td>NaN</td>\n",
       "      <td>NaN</td>\n",
       "      <td>NaN</td>\n",
       "      <td>NaN</td>\n",
       "      <td>NaN</td>\n",
       "    </tr>\n",
       "  </tbody>\n",
       "</table>\n",
       "<p>590 rows × 11 columns</p>\n",
       "</div>"
      ],
      "text/plain": [
       "             Company Name        Country  Sales  Profits  Assets  MarketValue  \\\n",
       "0          JPMorgan Chase  United States  136.2     40.4  3689.3        464.8   \n",
       "1      Berkshire Hathaway  United States  245.5     42.5   873.7        624.4   \n",
       "2                   Apple  United States  294.0     63.9   354.1       2252.3   \n",
       "3         Bank of America  United States   98.8     17.9  2832.2        336.3   \n",
       "4                  Amazon  United States  386.1     21.3   321.2       1711.8   \n",
       "..                    ...            ...    ...      ...     ...          ...   \n",
       "585    Slack Technologies  United States  903.0   -300.4     2.4         24.6   \n",
       "586  Penn National Gaming  United States    3.6   -669.5    17.1         15.6   \n",
       "587         Pinnacle Bank  United States    1.3    312.3    35.0          7.0   \n",
       "588               HubSpot  United States  883.0    -85.0     2.0         24.1   \n",
       "589                Paycom  United States  841.0    143.4     2.6         24.0   \n",
       "\n",
       "     num. of employees                         sector        city state  \\\n",
       "0             256981.0                     Financials    New York    NY   \n",
       "1             391500.0                     Financials       Omaha    NE   \n",
       "2             137000.0                     Technology   Cupertino    CA   \n",
       "3             208131.0                     Financials   Charlotte    NC   \n",
       "4             798000.0                      Retailing     Seattle    WA   \n",
       "..                 ...                            ...         ...   ...   \n",
       "585                NaN                            NaN         NaN   NaN   \n",
       "586            28300.0  Hotels, Restaurants & Leisure  Wyomissing    PA   \n",
       "587                NaN                            NaN         NaN   NaN   \n",
       "588                NaN                            NaN         NaN   NaN   \n",
       "589                NaN                            NaN         NaN   NaN   \n",
       "\n",
       "    profitable  \n",
       "0          yes  \n",
       "1          yes  \n",
       "2          yes  \n",
       "3          yes  \n",
       "4          yes  \n",
       "..         ...  \n",
       "585        NaN  \n",
       "586        yes  \n",
       "587        NaN  \n",
       "588        NaN  \n",
       "589        NaN  \n",
       "\n",
       "[590 rows x 11 columns]"
      ]
     },
     "execution_count": 412,
     "metadata": {},
     "output_type": "execute_result"
    }
   ],
   "source": [
    "US_merge"
   ]
  },
  {
   "cell_type": "code",
   "execution_count": 413,
   "id": "1df2fdcc",
   "metadata": {},
   "outputs": [
    {
     "data": {
      "text/plain": [
       "Company Name           0\n",
       "Country                0\n",
       "Sales                  0\n",
       "Profits                0\n",
       "Assets                 0\n",
       "MarketValue            0\n",
       "num. of employees    165\n",
       "sector               165\n",
       "city                 165\n",
       "state                165\n",
       "profitable           165\n",
       "dtype: int64"
      ]
     },
     "execution_count": 413,
     "metadata": {},
     "output_type": "execute_result"
    }
   ],
   "source": [
    "US_merge.isnull().sum()"
   ]
  },
  {
   "cell_type": "code",
   "execution_count": 414,
   "id": "53d3e65e",
   "metadata": {},
   "outputs": [],
   "source": [
    "US_merge.dropna(subset = [\"sector\"], inplace=True)"
   ]
  },
  {
   "cell_type": "code",
   "execution_count": 415,
   "id": "d0bee654",
   "metadata": {},
   "outputs": [
    {
     "data": {
      "text/plain": [
       "Company Name         0\n",
       "Country              0\n",
       "Sales                0\n",
       "Profits              0\n",
       "Assets               0\n",
       "MarketValue          0\n",
       "num. of employees    0\n",
       "sector               0\n",
       "city                 0\n",
       "state                0\n",
       "profitable           0\n",
       "dtype: int64"
      ]
     },
     "execution_count": 415,
     "metadata": {},
     "output_type": "execute_result"
    }
   ],
   "source": [
    "US_merge.isnull().sum()"
   ]
  },
  {
   "cell_type": "code",
   "execution_count": 416,
   "id": "b29605bd",
   "metadata": {},
   "outputs": [
    {
     "data": {
      "text/html": [
       "<div>\n",
       "<style scoped>\n",
       "    .dataframe tbody tr th:only-of-type {\n",
       "        vertical-align: middle;\n",
       "    }\n",
       "\n",
       "    .dataframe tbody tr th {\n",
       "        vertical-align: top;\n",
       "    }\n",
       "\n",
       "    .dataframe thead th {\n",
       "        text-align: right;\n",
       "    }\n",
       "</style>\n",
       "<table border=\"1\" class=\"dataframe\">\n",
       "  <thead>\n",
       "    <tr style=\"text-align: right;\">\n",
       "      <th></th>\n",
       "      <th>Company Name</th>\n",
       "      <th>Country</th>\n",
       "      <th>Sales</th>\n",
       "      <th>Profits</th>\n",
       "      <th>Assets</th>\n",
       "      <th>MarketValue</th>\n",
       "      <th>num. of employees</th>\n",
       "      <th>sector</th>\n",
       "      <th>city</th>\n",
       "      <th>state</th>\n",
       "      <th>profitable</th>\n",
       "    </tr>\n",
       "  </thead>\n",
       "  <tbody>\n",
       "    <tr>\n",
       "      <th>0</th>\n",
       "      <td>JPMorgan Chase</td>\n",
       "      <td>United States</td>\n",
       "      <td>136.2</td>\n",
       "      <td>40.4</td>\n",
       "      <td>3689.3</td>\n",
       "      <td>464.8</td>\n",
       "      <td>256981.0</td>\n",
       "      <td>Financials</td>\n",
       "      <td>New York</td>\n",
       "      <td>NY</td>\n",
       "      <td>yes</td>\n",
       "    </tr>\n",
       "    <tr>\n",
       "      <th>1</th>\n",
       "      <td>Berkshire Hathaway</td>\n",
       "      <td>United States</td>\n",
       "      <td>245.5</td>\n",
       "      <td>42.5</td>\n",
       "      <td>873.7</td>\n",
       "      <td>624.4</td>\n",
       "      <td>391500.0</td>\n",
       "      <td>Financials</td>\n",
       "      <td>Omaha</td>\n",
       "      <td>NE</td>\n",
       "      <td>yes</td>\n",
       "    </tr>\n",
       "    <tr>\n",
       "      <th>2</th>\n",
       "      <td>Apple</td>\n",
       "      <td>United States</td>\n",
       "      <td>294.0</td>\n",
       "      <td>63.9</td>\n",
       "      <td>354.1</td>\n",
       "      <td>2252.3</td>\n",
       "      <td>137000.0</td>\n",
       "      <td>Technology</td>\n",
       "      <td>Cupertino</td>\n",
       "      <td>CA</td>\n",
       "      <td>yes</td>\n",
       "    </tr>\n",
       "    <tr>\n",
       "      <th>3</th>\n",
       "      <td>Bank of America</td>\n",
       "      <td>United States</td>\n",
       "      <td>98.8</td>\n",
       "      <td>17.9</td>\n",
       "      <td>2832.2</td>\n",
       "      <td>336.3</td>\n",
       "      <td>208131.0</td>\n",
       "      <td>Financials</td>\n",
       "      <td>Charlotte</td>\n",
       "      <td>NC</td>\n",
       "      <td>yes</td>\n",
       "    </tr>\n",
       "    <tr>\n",
       "      <th>4</th>\n",
       "      <td>Amazon</td>\n",
       "      <td>United States</td>\n",
       "      <td>386.1</td>\n",
       "      <td>21.3</td>\n",
       "      <td>321.2</td>\n",
       "      <td>1711.8</td>\n",
       "      <td>798000.0</td>\n",
       "      <td>Retailing</td>\n",
       "      <td>Seattle</td>\n",
       "      <td>WA</td>\n",
       "      <td>yes</td>\n",
       "    </tr>\n",
       "    <tr>\n",
       "      <th>...</th>\n",
       "      <td>...</td>\n",
       "      <td>...</td>\n",
       "      <td>...</td>\n",
       "      <td>...</td>\n",
       "      <td>...</td>\n",
       "      <td>...</td>\n",
       "      <td>...</td>\n",
       "      <td>...</td>\n",
       "      <td>...</td>\n",
       "      <td>...</td>\n",
       "      <td>...</td>\n",
       "    </tr>\n",
       "    <tr>\n",
       "      <th>579</th>\n",
       "      <td>Howmet Aerospace</td>\n",
       "      <td>United States</td>\n",
       "      <td>6.8</td>\n",
       "      <td>261.0</td>\n",
       "      <td>11.4</td>\n",
       "      <td>14.2</td>\n",
       "      <td>41700.0</td>\n",
       "      <td>Aerospace &amp; Defense</td>\n",
       "      <td>Pittsburgh</td>\n",
       "      <td>PA</td>\n",
       "      <td>yes</td>\n",
       "    </tr>\n",
       "    <tr>\n",
       "      <th>580</th>\n",
       "      <td>TransUnion</td>\n",
       "      <td>United States</td>\n",
       "      <td>2.7</td>\n",
       "      <td>343.2</td>\n",
       "      <td>7.3</td>\n",
       "      <td>18.4</td>\n",
       "      <td>8000.0</td>\n",
       "      <td>Business Services</td>\n",
       "      <td>Chicago</td>\n",
       "      <td>IL</td>\n",
       "      <td>yes</td>\n",
       "    </tr>\n",
       "    <tr>\n",
       "      <th>581</th>\n",
       "      <td>Nexstar Media Group</td>\n",
       "      <td>United States</td>\n",
       "      <td>4.5</td>\n",
       "      <td>811.4</td>\n",
       "      <td>13.4</td>\n",
       "      <td>6.7</td>\n",
       "      <td>14891.0</td>\n",
       "      <td>Media</td>\n",
       "      <td>Irving</td>\n",
       "      <td>TX</td>\n",
       "      <td>yes</td>\n",
       "    </tr>\n",
       "    <tr>\n",
       "      <th>583</th>\n",
       "      <td>TCF Financial</td>\n",
       "      <td>United States</td>\n",
       "      <td>2.3</td>\n",
       "      <td>222.8</td>\n",
       "      <td>47.8</td>\n",
       "      <td>7.3</td>\n",
       "      <td>7732.0</td>\n",
       "      <td>Financials</td>\n",
       "      <td>Detroit</td>\n",
       "      <td>MI</td>\n",
       "      <td>yes</td>\n",
       "    </tr>\n",
       "    <tr>\n",
       "      <th>586</th>\n",
       "      <td>Penn National Gaming</td>\n",
       "      <td>United States</td>\n",
       "      <td>3.6</td>\n",
       "      <td>-669.5</td>\n",
       "      <td>17.1</td>\n",
       "      <td>15.6</td>\n",
       "      <td>28300.0</td>\n",
       "      <td>Hotels, Restaurants &amp; Leisure</td>\n",
       "      <td>Wyomissing</td>\n",
       "      <td>PA</td>\n",
       "      <td>yes</td>\n",
       "    </tr>\n",
       "  </tbody>\n",
       "</table>\n",
       "<p>425 rows × 11 columns</p>\n",
       "</div>"
      ],
      "text/plain": [
       "             Company Name        Country  Sales  Profits  Assets  MarketValue  \\\n",
       "0          JPMorgan Chase  United States  136.2     40.4  3689.3        464.8   \n",
       "1      Berkshire Hathaway  United States  245.5     42.5   873.7        624.4   \n",
       "2                   Apple  United States  294.0     63.9   354.1       2252.3   \n",
       "3         Bank of America  United States   98.8     17.9  2832.2        336.3   \n",
       "4                  Amazon  United States  386.1     21.3   321.2       1711.8   \n",
       "..                    ...            ...    ...      ...     ...          ...   \n",
       "579      Howmet Aerospace  United States    6.8    261.0    11.4         14.2   \n",
       "580            TransUnion  United States    2.7    343.2     7.3         18.4   \n",
       "581   Nexstar Media Group  United States    4.5    811.4    13.4          6.7   \n",
       "583         TCF Financial  United States    2.3    222.8    47.8          7.3   \n",
       "586  Penn National Gaming  United States    3.6   -669.5    17.1         15.6   \n",
       "\n",
       "     num. of employees                         sector        city state  \\\n",
       "0             256981.0                     Financials    New York    NY   \n",
       "1             391500.0                     Financials       Omaha    NE   \n",
       "2             137000.0                     Technology   Cupertino    CA   \n",
       "3             208131.0                     Financials   Charlotte    NC   \n",
       "4             798000.0                      Retailing     Seattle    WA   \n",
       "..                 ...                            ...         ...   ...   \n",
       "579            41700.0            Aerospace & Defense  Pittsburgh    PA   \n",
       "580             8000.0              Business Services     Chicago    IL   \n",
       "581            14891.0                          Media      Irving    TX   \n",
       "583             7732.0                     Financials     Detroit    MI   \n",
       "586            28300.0  Hotels, Restaurants & Leisure  Wyomissing    PA   \n",
       "\n",
       "    profitable  \n",
       "0          yes  \n",
       "1          yes  \n",
       "2          yes  \n",
       "3          yes  \n",
       "4          yes  \n",
       "..         ...  \n",
       "579        yes  \n",
       "580        yes  \n",
       "581        yes  \n",
       "583        yes  \n",
       "586        yes  \n",
       "\n",
       "[425 rows x 11 columns]"
      ]
     },
     "execution_count": 416,
     "metadata": {},
     "output_type": "execute_result"
    }
   ],
   "source": [
    "US_merge"
   ]
  },
  {
   "cell_type": "code",
   "execution_count": 417,
   "id": "c2b1ac50",
   "metadata": {},
   "outputs": [
    {
     "name": "stdout",
     "output_type": "stream",
     "text": [
      "sector\n",
      "Aerospace & Defense              11\n",
      "Apparel                           2\n",
      "Business Services                21\n",
      "Chemicals                        14\n",
      "Energy                           45\n",
      "Engineering & Construction        7\n",
      "Financials                       81\n",
      "Food & Drug Stores                3\n",
      "Food, Beverages & Tobacco        19\n",
      "Health Care                      41\n",
      "Hotels, Restaurants & Leisure     8\n",
      "Household Products               10\n",
      "Industrials                      18\n",
      "Materials                        12\n",
      "Media                             9\n",
      "Motor Vehicles & Parts            7\n",
      "Retailing                        28\n",
      "Technology                       60\n",
      "Telecommunications                7\n",
      "Transportation                   13\n",
      "Wholesalers                       9\n",
      "dtype: int64\n"
     ]
    }
   ],
   "source": [
    "sectors = US_merge.groupby(\"sector\").size()\n",
    "\n",
    "print(sectors)"
   ]
  },
  {
   "cell_type": "code",
   "execution_count": 424,
   "id": "84d9c5d7",
   "metadata": {},
   "outputs": [
    {
     "name": "stdout",
     "output_type": "stream",
     "text": [
      "sector\n",
      "Financials     81\n",
      "Technology     60\n",
      "Energy         45\n",
      "Health Care    41\n",
      "Retailing      28\n",
      "dtype: int64\n"
     ]
    }
   ],
   "source": [
    "most_sectors = sectors.nlargest(5)\n",
    "print(most_sectors)"
   ]
  },
  {
   "cell_type": "code",
   "execution_count": 425,
   "id": "6eb3d3a7",
   "metadata": {},
   "outputs": [
    {
     "data": {
      "image/png": "[encoded data removed]",
      "text/plain": [
       "<Figure size 360x360 with 1 Axes>"
      ]
     },
     "metadata": {},
     "output_type": "display_data"
    }
   ],
   "source": [
    "plot = most_sectors.plot.pie(figsize=(5, 5))"
   ]
  },
  {
   "cell_type": "code",
   "execution_count": 443,
   "id": "97962c3d",
   "metadata": {},
   "outputs": [],
   "source": [
    "sales_by_sector = US_merge.groupby([\"sector\"]).Sales.sum().reset_index(\"sector\")"
   ]
  },
  {
   "cell_type": "code",
   "execution_count": 444,
   "id": "37830bc4",
   "metadata": {},
   "outputs": [
    {
     "data": {
      "text/html": [
       "<div>\n",
       "<style scoped>\n",
       "    .dataframe tbody tr th:only-of-type {\n",
       "        vertical-align: middle;\n",
       "    }\n",
       "\n",
       "    .dataframe tbody tr th {\n",
       "        vertical-align: top;\n",
       "    }\n",
       "\n",
       "    .dataframe thead th {\n",
       "        text-align: right;\n",
       "    }\n",
       "</style>\n",
       "<table border=\"1\" class=\"dataframe\">\n",
       "  <thead>\n",
       "    <tr style=\"text-align: right;\">\n",
       "      <th></th>\n",
       "      <th>sector</th>\n",
       "      <th>Sales</th>\n",
       "    </tr>\n",
       "  </thead>\n",
       "  <tbody>\n",
       "    <tr>\n",
       "      <th>0</th>\n",
       "      <td>Aerospace &amp; Defense</td>\n",
       "      <td>315.7</td>\n",
       "    </tr>\n",
       "    <tr>\n",
       "      <th>1</th>\n",
       "      <td>Apparel</td>\n",
       "      <td>47.3</td>\n",
       "    </tr>\n",
       "    <tr>\n",
       "      <th>2</th>\n",
       "      <td>Business Services</td>\n",
       "      <td>187.7</td>\n",
       "    </tr>\n",
       "    <tr>\n",
       "      <th>3</th>\n",
       "      <td>Chemicals</td>\n",
       "      <td>164.0</td>\n",
       "    </tr>\n",
       "    <tr>\n",
       "      <th>4</th>\n",
       "      <td>Energy</td>\n",
       "      <td>772.6</td>\n",
       "    </tr>\n",
       "    <tr>\n",
       "      <th>5</th>\n",
       "      <td>Engineering &amp; Construction</td>\n",
       "      <td>98.1</td>\n",
       "    </tr>\n",
       "    <tr>\n",
       "      <th>6</th>\n",
       "      <td>Financials</td>\n",
       "      <td>2082.7</td>\n",
       "    </tr>\n",
       "    <tr>\n",
       "      <th>7</th>\n",
       "      <td>Food &amp; Drug Stores</td>\n",
       "      <td>225.9</td>\n",
       "    </tr>\n",
       "    <tr>\n",
       "      <th>8</th>\n",
       "      <td>Food, Beverages &amp; Tobacco</td>\n",
       "      <td>406.8</td>\n",
       "    </tr>\n",
       "    <tr>\n",
       "      <th>9</th>\n",
       "      <td>Health Care</td>\n",
       "      <td>2144.7</td>\n",
       "    </tr>\n",
       "    <tr>\n",
       "      <th>10</th>\n",
       "      <td>Hotels, Restaurants &amp; Leisure</td>\n",
       "      <td>60.8</td>\n",
       "    </tr>\n",
       "    <tr>\n",
       "      <th>11</th>\n",
       "      <td>Household Products</td>\n",
       "      <td>168.8</td>\n",
       "    </tr>\n",
       "    <tr>\n",
       "      <th>12</th>\n",
       "      <td>Industrials</td>\n",
       "      <td>310.6</td>\n",
       "    </tr>\n",
       "    <tr>\n",
       "      <th>13</th>\n",
       "      <td>Materials</td>\n",
       "      <td>136.0</td>\n",
       "    </tr>\n",
       "    <tr>\n",
       "      <th>14</th>\n",
       "      <td>Media</td>\n",
       "      <td>156.2</td>\n",
       "    </tr>\n",
       "    <tr>\n",
       "      <th>15</th>\n",
       "      <td>Motor Vehicles &amp; Parts</td>\n",
       "      <td>333.0</td>\n",
       "    </tr>\n",
       "    <tr>\n",
       "      <th>16</th>\n",
       "      <td>Retailing</td>\n",
       "      <td>1666.8</td>\n",
       "    </tr>\n",
       "    <tr>\n",
       "      <th>17</th>\n",
       "      <td>Technology</td>\n",
       "      <td>1525.9</td>\n",
       "    </tr>\n",
       "    <tr>\n",
       "      <th>18</th>\n",
       "      <td>Telecommunications</td>\n",
       "      <td>497.9</td>\n",
       "    </tr>\n",
       "    <tr>\n",
       "      <th>19</th>\n",
       "      <td>Transportation</td>\n",
       "      <td>210.2</td>\n",
       "    </tr>\n",
       "    <tr>\n",
       "      <th>20</th>\n",
       "      <td>Wholesalers</td>\n",
       "      <td>197.5</td>\n",
       "    </tr>\n",
       "  </tbody>\n",
       "</table>\n",
       "</div>"
      ],
      "text/plain": [
       "                           sector   Sales\n",
       "0             Aerospace & Defense   315.7\n",
       "1                         Apparel    47.3\n",
       "2               Business Services   187.7\n",
       "3                       Chemicals   164.0\n",
       "4                          Energy   772.6\n",
       "5      Engineering & Construction    98.1\n",
       "6                      Financials  2082.7\n",
       "7              Food & Drug Stores   225.9\n",
       "8       Food, Beverages & Tobacco   406.8\n",
       "9                     Health Care  2144.7\n",
       "10  Hotels, Restaurants & Leisure    60.8\n",
       "11             Household Products   168.8\n",
       "12                    Industrials   310.6\n",
       "13                      Materials   136.0\n",
       "14                          Media   156.2\n",
       "15         Motor Vehicles & Parts   333.0\n",
       "16                      Retailing  1666.8\n",
       "17                     Technology  1525.9\n",
       "18             Telecommunications   497.9\n",
       "19                 Transportation   210.2\n",
       "20                    Wholesalers   197.5"
      ]
     },
     "execution_count": 444,
     "metadata": {},
     "output_type": "execute_result"
    }
   ],
   "source": [
    "sales_by_sector"
   ]
  },
  {
   "cell_type": "code",
   "execution_count": 453,
   "id": "c8b33484",
   "metadata": {},
   "outputs": [],
   "source": [
    "top_10_sector_s = sales_by_sector.nlargest(10, \"Sales\")"
   ]
  },
  {
   "cell_type": "code",
   "execution_count": 454,
   "id": "e16fcc50",
   "metadata": {},
   "outputs": [
    {
     "data": {
      "text/html": [
       "<div>\n",
       "<style scoped>\n",
       "    .dataframe tbody tr th:only-of-type {\n",
       "        vertical-align: middle;\n",
       "    }\n",
       "\n",
       "    .dataframe tbody tr th {\n",
       "        vertical-align: top;\n",
       "    }\n",
       "\n",
       "    .dataframe thead th {\n",
       "        text-align: right;\n",
       "    }\n",
       "</style>\n",
       "<table border=\"1\" class=\"dataframe\">\n",
       "  <thead>\n",
       "    <tr style=\"text-align: right;\">\n",
       "      <th></th>\n",
       "      <th>sector</th>\n",
       "      <th>Sales</th>\n",
       "    </tr>\n",
       "  </thead>\n",
       "  <tbody>\n",
       "    <tr>\n",
       "      <th>9</th>\n",
       "      <td>Health Care</td>\n",
       "      <td>2144.7</td>\n",
       "    </tr>\n",
       "    <tr>\n",
       "      <th>6</th>\n",
       "      <td>Financials</td>\n",
       "      <td>2082.7</td>\n",
       "    </tr>\n",
       "    <tr>\n",
       "      <th>16</th>\n",
       "      <td>Retailing</td>\n",
       "      <td>1666.8</td>\n",
       "    </tr>\n",
       "    <tr>\n",
       "      <th>17</th>\n",
       "      <td>Technology</td>\n",
       "      <td>1525.9</td>\n",
       "    </tr>\n",
       "    <tr>\n",
       "      <th>4</th>\n",
       "      <td>Energy</td>\n",
       "      <td>772.6</td>\n",
       "    </tr>\n",
       "    <tr>\n",
       "      <th>18</th>\n",
       "      <td>Telecommunications</td>\n",
       "      <td>497.9</td>\n",
       "    </tr>\n",
       "    <tr>\n",
       "      <th>8</th>\n",
       "      <td>Food, Beverages &amp; Tobacco</td>\n",
       "      <td>406.8</td>\n",
       "    </tr>\n",
       "    <tr>\n",
       "      <th>15</th>\n",
       "      <td>Motor Vehicles &amp; Parts</td>\n",
       "      <td>333.0</td>\n",
       "    </tr>\n",
       "    <tr>\n",
       "      <th>0</th>\n",
       "      <td>Aerospace &amp; Defense</td>\n",
       "      <td>315.7</td>\n",
       "    </tr>\n",
       "    <tr>\n",
       "      <th>12</th>\n",
       "      <td>Industrials</td>\n",
       "      <td>310.6</td>\n",
       "    </tr>\n",
       "  </tbody>\n",
       "</table>\n",
       "</div>"
      ],
      "text/plain": [
       "                       sector   Sales\n",
       "9                 Health Care  2144.7\n",
       "6                  Financials  2082.7\n",
       "16                  Retailing  1666.8\n",
       "17                 Technology  1525.9\n",
       "4                      Energy   772.6\n",
       "18         Telecommunications   497.9\n",
       "8   Food, Beverages & Tobacco   406.8\n",
       "15     Motor Vehicles & Parts   333.0\n",
       "0         Aerospace & Defense   315.7\n",
       "12                Industrials   310.6"
      ]
     },
     "execution_count": 454,
     "metadata": {},
     "output_type": "execute_result"
    }
   ],
   "source": [
    "top_10_sector_s"
   ]
  },
  {
   "cell_type": "code",
   "execution_count": 456,
   "id": "a86c87af",
   "metadata": {},
   "outputs": [
    {
     "data": {
      "text/plain": [
       "pandas.core.frame.DataFrame"
      ]
     },
     "execution_count": 456,
     "metadata": {},
     "output_type": "execute_result"
    }
   ],
   "source": [
    "type(top_10_sector_s)"
   ]
  },
  {
   "cell_type": "code",
   "execution_count": 467,
   "id": "333cfcaa",
   "metadata": {},
   "outputs": [],
   "source": [
    "sector_by_mv = US_merge.groupby([\"sector\"]).MarketValue.sum().reset_index(\"sector\")"
   ]
  },
  {
   "cell_type": "code",
   "execution_count": 468,
   "id": "d679808a",
   "metadata": {},
   "outputs": [
    {
     "data": {
      "text/html": [
       "<div>\n",
       "<style scoped>\n",
       "    .dataframe tbody tr th:only-of-type {\n",
       "        vertical-align: middle;\n",
       "    }\n",
       "\n",
       "    .dataframe tbody tr th {\n",
       "        vertical-align: top;\n",
       "    }\n",
       "\n",
       "    .dataframe thead th {\n",
       "        text-align: right;\n",
       "    }\n",
       "</style>\n",
       "<table border=\"1\" class=\"dataframe\">\n",
       "  <thead>\n",
       "    <tr style=\"text-align: right;\">\n",
       "      <th></th>\n",
       "      <th>sector</th>\n",
       "      <th>MarketValue</th>\n",
       "    </tr>\n",
       "  </thead>\n",
       "  <tbody>\n",
       "    <tr>\n",
       "      <th>0</th>\n",
       "      <td>Aerospace &amp; Defense</td>\n",
       "      <td>609.6</td>\n",
       "    </tr>\n",
       "    <tr>\n",
       "      <th>1</th>\n",
       "      <td>Apparel</td>\n",
       "      <td>245.4</td>\n",
       "    </tr>\n",
       "    <tr>\n",
       "      <th>2</th>\n",
       "      <td>Business Services</td>\n",
       "      <td>1642.7</td>\n",
       "    </tr>\n",
       "    <tr>\n",
       "      <th>3</th>\n",
       "      <td>Chemicals</td>\n",
       "      <td>514.2</td>\n",
       "    </tr>\n",
       "    <tr>\n",
       "      <th>4</th>\n",
       "      <td>Energy</td>\n",
       "      <td>1593.5</td>\n",
       "    </tr>\n",
       "    <tr>\n",
       "      <th>5</th>\n",
       "      <td>Engineering &amp; Construction</td>\n",
       "      <td>124.8</td>\n",
       "    </tr>\n",
       "    <tr>\n",
       "      <th>6</th>\n",
       "      <td>Financials</td>\n",
       "      <td>4095.6</td>\n",
       "    </tr>\n",
       "    <tr>\n",
       "      <th>7</th>\n",
       "      <td>Food &amp; Drug Stores</td>\n",
       "      <td>1011.6</td>\n",
       "    </tr>\n",
       "    <tr>\n",
       "      <th>8</th>\n",
       "      <td>Food, Beverages &amp; Tobacco</td>\n",
       "      <td>1209.5</td>\n",
       "    </tr>\n",
       "    <tr>\n",
       "      <th>9</th>\n",
       "      <td>Health Care</td>\n",
       "      <td>3399.3</td>\n",
       "    </tr>\n",
       "    <tr>\n",
       "      <th>10</th>\n",
       "      <td>Hotels, Restaurants &amp; Leisure</td>\n",
       "      <td>347.1</td>\n",
       "    </tr>\n",
       "    <tr>\n",
       "      <th>11</th>\n",
       "      <td>Household Products</td>\n",
       "      <td>588.7</td>\n",
       "    </tr>\n",
       "    <tr>\n",
       "      <th>12</th>\n",
       "      <td>Industrials</td>\n",
       "      <td>860.4</td>\n",
       "    </tr>\n",
       "    <tr>\n",
       "      <th>13</th>\n",
       "      <td>Materials</td>\n",
       "      <td>225.9</td>\n",
       "    </tr>\n",
       "    <tr>\n",
       "      <th>14</th>\n",
       "      <td>Media</td>\n",
       "      <td>790.6</td>\n",
       "    </tr>\n",
       "    <tr>\n",
       "      <th>15</th>\n",
       "      <td>Motor Vehicles &amp; Parts</td>\n",
       "      <td>1813.0</td>\n",
       "    </tr>\n",
       "    <tr>\n",
       "      <th>16</th>\n",
       "      <td>Retailing</td>\n",
       "      <td>3231.4</td>\n",
       "    </tr>\n",
       "    <tr>\n",
       "      <th>17</th>\n",
       "      <td>Technology</td>\n",
       "      <td>10436.3</td>\n",
       "    </tr>\n",
       "    <tr>\n",
       "      <th>18</th>\n",
       "      <td>Telecommunications</td>\n",
       "      <td>889.1</td>\n",
       "    </tr>\n",
       "    <tr>\n",
       "      <th>19</th>\n",
       "      <td>Transportation</td>\n",
       "      <td>570.4</td>\n",
       "    </tr>\n",
       "    <tr>\n",
       "      <th>20</th>\n",
       "      <td>Wholesalers</td>\n",
       "      <td>125.7</td>\n",
       "    </tr>\n",
       "  </tbody>\n",
       "</table>\n",
       "</div>"
      ],
      "text/plain": [
       "                           sector  MarketValue\n",
       "0             Aerospace & Defense        609.6\n",
       "1                         Apparel        245.4\n",
       "2               Business Services       1642.7\n",
       "3                       Chemicals        514.2\n",
       "4                          Energy       1593.5\n",
       "5      Engineering & Construction        124.8\n",
       "6                      Financials       4095.6\n",
       "7              Food & Drug Stores       1011.6\n",
       "8       Food, Beverages & Tobacco       1209.5\n",
       "9                     Health Care       3399.3\n",
       "10  Hotels, Restaurants & Leisure        347.1\n",
       "11             Household Products        588.7\n",
       "12                    Industrials        860.4\n",
       "13                      Materials        225.9\n",
       "14                          Media        790.6\n",
       "15         Motor Vehicles & Parts       1813.0\n",
       "16                      Retailing       3231.4\n",
       "17                     Technology      10436.3\n",
       "18             Telecommunications        889.1\n",
       "19                 Transportation        570.4\n",
       "20                    Wholesalers        125.7"
      ]
     },
     "execution_count": 468,
     "metadata": {},
     "output_type": "execute_result"
    }
   ],
   "source": [
    "sector_by_mv"
   ]
  },
  {
   "cell_type": "code",
   "execution_count": 469,
   "id": "e675b39d",
   "metadata": {},
   "outputs": [],
   "source": [
    "top_10_sector_mv = sector_by_mv.nlargest(10, \"MarketValue\")"
   ]
  },
  {
   "cell_type": "code",
   "execution_count": 470,
   "id": "bb1c9b1f",
   "metadata": {},
   "outputs": [
    {
     "data": {
      "text/html": [
       "<div>\n",
       "<style scoped>\n",
       "    .dataframe tbody tr th:only-of-type {\n",
       "        vertical-align: middle;\n",
       "    }\n",
       "\n",
       "    .dataframe tbody tr th {\n",
       "        vertical-align: top;\n",
       "    }\n",
       "\n",
       "    .dataframe thead th {\n",
       "        text-align: right;\n",
       "    }\n",
       "</style>\n",
       "<table border=\"1\" class=\"dataframe\">\n",
       "  <thead>\n",
       "    <tr style=\"text-align: right;\">\n",
       "      <th></th>\n",
       "      <th>sector</th>\n",
       "      <th>MarketValue</th>\n",
       "    </tr>\n",
       "  </thead>\n",
       "  <tbody>\n",
       "    <tr>\n",
       "      <th>17</th>\n",
       "      <td>Technology</td>\n",
       "      <td>10436.3</td>\n",
       "    </tr>\n",
       "    <tr>\n",
       "      <th>6</th>\n",
       "      <td>Financials</td>\n",
       "      <td>4095.6</td>\n",
       "    </tr>\n",
       "    <tr>\n",
       "      <th>9</th>\n",
       "      <td>Health Care</td>\n",
       "      <td>3399.3</td>\n",
       "    </tr>\n",
       "    <tr>\n",
       "      <th>16</th>\n",
       "      <td>Retailing</td>\n",
       "      <td>3231.4</td>\n",
       "    </tr>\n",
       "    <tr>\n",
       "      <th>15</th>\n",
       "      <td>Motor Vehicles &amp; Parts</td>\n",
       "      <td>1813.0</td>\n",
       "    </tr>\n",
       "    <tr>\n",
       "      <th>2</th>\n",
       "      <td>Business Services</td>\n",
       "      <td>1642.7</td>\n",
       "    </tr>\n",
       "    <tr>\n",
       "      <th>4</th>\n",
       "      <td>Energy</td>\n",
       "      <td>1593.5</td>\n",
       "    </tr>\n",
       "    <tr>\n",
       "      <th>8</th>\n",
       "      <td>Food, Beverages &amp; Tobacco</td>\n",
       "      <td>1209.5</td>\n",
       "    </tr>\n",
       "    <tr>\n",
       "      <th>7</th>\n",
       "      <td>Food &amp; Drug Stores</td>\n",
       "      <td>1011.6</td>\n",
       "    </tr>\n",
       "    <tr>\n",
       "      <th>18</th>\n",
       "      <td>Telecommunications</td>\n",
       "      <td>889.1</td>\n",
       "    </tr>\n",
       "  </tbody>\n",
       "</table>\n",
       "</div>"
      ],
      "text/plain": [
       "                       sector  MarketValue\n",
       "17                 Technology      10436.3\n",
       "6                  Financials       4095.6\n",
       "9                 Health Care       3399.3\n",
       "16                  Retailing       3231.4\n",
       "15     Motor Vehicles & Parts       1813.0\n",
       "2           Business Services       1642.7\n",
       "4                      Energy       1593.5\n",
       "8   Food, Beverages & Tobacco       1209.5\n",
       "7          Food & Drug Stores       1011.6\n",
       "18         Telecommunications        889.1"
      ]
     },
     "execution_count": 470,
     "metadata": {},
     "output_type": "execute_result"
    }
   ],
   "source": [
    "top_10_sector_mv"
   ]
  },
  {
   "cell_type": "code",
   "execution_count": 471,
   "id": "a7926c4e",
   "metadata": {},
   "outputs": [
    {
     "name": "stdout",
     "output_type": "stream",
     "text": [
      "                      sector   Sales  MarketValue\n",
      "0                Health Care  2144.7       3399.3\n",
      "1                 Financials  2082.7       4095.6\n",
      "2                  Retailing  1666.8       3231.4\n",
      "3                 Technology  1525.9      10436.3\n",
      "4                     Energy   772.6       1593.5\n",
      "5         Telecommunications   497.9        889.1\n",
      "6  Food, Beverages & Tobacco   406.8       1209.5\n",
      "7     Motor Vehicles & Parts   333.0       1813.0\n"
     ]
    }
   ],
   "source": [
    "left = top_10_sector_s\n",
    "right = top_10_sector_mv\n",
    "\n",
    "comparison = pd.merge(left, right, on=\"sector\")\n",
    "\n",
    "print(comparison)"
   ]
  },
  {
   "cell_type": "code",
   "execution_count": 472,
   "id": "854111a1",
   "metadata": {},
   "outputs": [
    {
     "data": {
      "text/plain": [
       "<AxesSubplot:xlabel='Sales', ylabel='MarketValue'>"
      ]
     },
     "execution_count": 472,
     "metadata": {},
     "output_type": "execute_result"
    },
    {
     "data": {
      "image/png": "[encoded data removed]",
      "text/plain": [
       "<Figure size 432x288 with 1 Axes>"
      ]
     },
     "metadata": {},
     "output_type": "display_data"
    }
   ],
   "source": [
    "US_merge.plot.scatter(x=\"Sales\", y=\"MarketValue\")"
   ]
  },
  {
   "cell_type": "code",
   "execution_count": 473,
   "id": "ba11e84a",
   "metadata": {},
   "outputs": [
    {
     "data": {
      "text/plain": [
       "<AxesSubplot:xlabel='Sales', ylabel='MarketValue'>"
      ]
     },
     "execution_count": 473,
     "metadata": {},
     "output_type": "execute_result"
    },
    {
     "data": {
      "image/png": "[encoded data removed]",
      "text/plain": [
       "<Figure size 432x288 with 1 Axes>"
      ]
     },
     "metadata": {},
     "output_type": "display_data"
    }
   ],
   "source": [
    "comparison.plot.scatter(x=\"Sales\", y=\"MarketValue\")"
   ]
  },
  {
   "cell_type": "code",
   "execution_count": 474,
   "id": "2d06169b",
   "metadata": {},
   "outputs": [],
   "source": [
    "sector_by_av_profit = US_merge.groupby([\"sector\"]).Profits.mean().reset_index(\"sector\")"
   ]
  },
  {
   "cell_type": "code",
   "execution_count": 475,
   "id": "a2105a3f",
   "metadata": {},
   "outputs": [
    {
     "data": {
      "text/html": [
       "<div>\n",
       "<style scoped>\n",
       "    .dataframe tbody tr th:only-of-type {\n",
       "        vertical-align: middle;\n",
       "    }\n",
       "\n",
       "    .dataframe tbody tr th {\n",
       "        vertical-align: top;\n",
       "    }\n",
       "\n",
       "    .dataframe thead th {\n",
       "        text-align: right;\n",
       "    }\n",
       "</style>\n",
       "<table border=\"1\" class=\"dataframe\">\n",
       "  <thead>\n",
       "    <tr style=\"text-align: right;\">\n",
       "      <th></th>\n",
       "      <th>sector</th>\n",
       "      <th>Profits</th>\n",
       "    </tr>\n",
       "  </thead>\n",
       "  <tbody>\n",
       "    <tr>\n",
       "      <th>0</th>\n",
       "      <td>Aerospace &amp; Defense</td>\n",
       "      <td>187.345455</td>\n",
       "    </tr>\n",
       "    <tr>\n",
       "      <th>1</th>\n",
       "      <td>Apparel</td>\n",
       "      <td>-81.000000</td>\n",
       "    </tr>\n",
       "    <tr>\n",
       "      <th>2</th>\n",
       "      <td>Business Services</td>\n",
       "      <td>416.828571</td>\n",
       "    </tr>\n",
       "    <tr>\n",
       "      <th>3</th>\n",
       "      <td>Chemicals</td>\n",
       "      <td>264.992857</td>\n",
       "    </tr>\n",
       "    <tr>\n",
       "      <th>4</th>\n",
       "      <td>Energy</td>\n",
       "      <td>141.888889</td>\n",
       "    </tr>\n",
       "    <tr>\n",
       "      <th>5</th>\n",
       "      <td>Engineering &amp; Construction</td>\n",
       "      <td>200.728571</td>\n",
       "    </tr>\n",
       "    <tr>\n",
       "      <th>6</th>\n",
       "      <td>Financials</td>\n",
       "      <td>194.091358</td>\n",
       "    </tr>\n",
       "    <tr>\n",
       "      <th>7</th>\n",
       "      <td>Food &amp; Drug Stores</td>\n",
       "      <td>-29.066667</td>\n",
       "    </tr>\n",
       "    <tr>\n",
       "      <th>8</th>\n",
       "      <td>Food, Beverages &amp; Tobacco</td>\n",
       "      <td>215.584211</td>\n",
       "    </tr>\n",
       "    <tr>\n",
       "      <th>9</th>\n",
       "      <td>Health Care</td>\n",
       "      <td>186.031707</td>\n",
       "    </tr>\n",
       "    <tr>\n",
       "      <th>10</th>\n",
       "      <td>Hotels, Restaurants &amp; Leisure</td>\n",
       "      <td>44.087500</td>\n",
       "    </tr>\n",
       "    <tr>\n",
       "      <th>11</th>\n",
       "      <td>Household Products</td>\n",
       "      <td>173.690000</td>\n",
       "    </tr>\n",
       "    <tr>\n",
       "      <th>12</th>\n",
       "      <td>Industrials</td>\n",
       "      <td>173.566667</td>\n",
       "    </tr>\n",
       "    <tr>\n",
       "      <th>13</th>\n",
       "      <td>Materials</td>\n",
       "      <td>487.441667</td>\n",
       "    </tr>\n",
       "    <tr>\n",
       "      <th>14</th>\n",
       "      <td>Media</td>\n",
       "      <td>145.611111</td>\n",
       "    </tr>\n",
       "    <tr>\n",
       "      <th>15</th>\n",
       "      <td>Motor Vehicles &amp; Parts</td>\n",
       "      <td>248.800000</td>\n",
       "    </tr>\n",
       "    <tr>\n",
       "      <th>16</th>\n",
       "      <td>Retailing</td>\n",
       "      <td>209.728571</td>\n",
       "    </tr>\n",
       "    <tr>\n",
       "      <th>17</th>\n",
       "      <td>Technology</td>\n",
       "      <td>245.481667</td>\n",
       "    </tr>\n",
       "    <tr>\n",
       "      <th>18</th>\n",
       "      <td>Telecommunications</td>\n",
       "      <td>66.157143</td>\n",
       "    </tr>\n",
       "    <tr>\n",
       "      <th>19</th>\n",
       "      <td>Transportation</td>\n",
       "      <td>197.700000</td>\n",
       "    </tr>\n",
       "    <tr>\n",
       "      <th>20</th>\n",
       "      <td>Wholesalers</td>\n",
       "      <td>216.311111</td>\n",
       "    </tr>\n",
       "  </tbody>\n",
       "</table>\n",
       "</div>"
      ],
      "text/plain": [
       "                           sector     Profits\n",
       "0             Aerospace & Defense  187.345455\n",
       "1                         Apparel  -81.000000\n",
       "2               Business Services  416.828571\n",
       "3                       Chemicals  264.992857\n",
       "4                          Energy  141.888889\n",
       "5      Engineering & Construction  200.728571\n",
       "6                      Financials  194.091358\n",
       "7              Food & Drug Stores  -29.066667\n",
       "8       Food, Beverages & Tobacco  215.584211\n",
       "9                     Health Care  186.031707\n",
       "10  Hotels, Restaurants & Leisure   44.087500\n",
       "11             Household Products  173.690000\n",
       "12                    Industrials  173.566667\n",
       "13                      Materials  487.441667\n",
       "14                          Media  145.611111\n",
       "15         Motor Vehicles & Parts  248.800000\n",
       "16                      Retailing  209.728571\n",
       "17                     Technology  245.481667\n",
       "18             Telecommunications   66.157143\n",
       "19                 Transportation  197.700000\n",
       "20                    Wholesalers  216.311111"
      ]
     },
     "execution_count": 475,
     "metadata": {},
     "output_type": "execute_result"
    }
   ],
   "source": [
    "sector_by_av_profit"
   ]
  },
  {
   "cell_type": "code",
   "execution_count": 492,
   "id": "5e2064d2",
   "metadata": {},
   "outputs": [],
   "source": [
    "top_10_sector_ap = sector_by_av_profit.nlargest(10, \"Profits\")"
   ]
  },
  {
   "cell_type": "code",
   "execution_count": 494,
   "id": "6f1213cb",
   "metadata": {},
   "outputs": [
    {
     "data": {
      "text/html": [
       "<div>\n",
       "<style scoped>\n",
       "    .dataframe tbody tr th:only-of-type {\n",
       "        vertical-align: middle;\n",
       "    }\n",
       "\n",
       "    .dataframe tbody tr th {\n",
       "        vertical-align: top;\n",
       "    }\n",
       "\n",
       "    .dataframe thead th {\n",
       "        text-align: right;\n",
       "    }\n",
       "</style>\n",
       "<table border=\"1\" class=\"dataframe\">\n",
       "  <thead>\n",
       "    <tr style=\"text-align: right;\">\n",
       "      <th></th>\n",
       "      <th>sector</th>\n",
       "      <th>Profits</th>\n",
       "    </tr>\n",
       "  </thead>\n",
       "  <tbody>\n",
       "    <tr>\n",
       "      <th>13</th>\n",
       "      <td>Materials</td>\n",
       "      <td>487.441667</td>\n",
       "    </tr>\n",
       "    <tr>\n",
       "      <th>2</th>\n",
       "      <td>Business Services</td>\n",
       "      <td>416.828571</td>\n",
       "    </tr>\n",
       "    <tr>\n",
       "      <th>3</th>\n",
       "      <td>Chemicals</td>\n",
       "      <td>264.992857</td>\n",
       "    </tr>\n",
       "    <tr>\n",
       "      <th>15</th>\n",
       "      <td>Motor Vehicles &amp; Parts</td>\n",
       "      <td>248.800000</td>\n",
       "    </tr>\n",
       "    <tr>\n",
       "      <th>17</th>\n",
       "      <td>Technology</td>\n",
       "      <td>245.481667</td>\n",
       "    </tr>\n",
       "    <tr>\n",
       "      <th>20</th>\n",
       "      <td>Wholesalers</td>\n",
       "      <td>216.311111</td>\n",
       "    </tr>\n",
       "    <tr>\n",
       "      <th>8</th>\n",
       "      <td>Food, Beverages &amp; Tobacco</td>\n",
       "      <td>215.584211</td>\n",
       "    </tr>\n",
       "    <tr>\n",
       "      <th>16</th>\n",
       "      <td>Retailing</td>\n",
       "      <td>209.728571</td>\n",
       "    </tr>\n",
       "    <tr>\n",
       "      <th>5</th>\n",
       "      <td>Engineering &amp; Construction</td>\n",
       "      <td>200.728571</td>\n",
       "    </tr>\n",
       "    <tr>\n",
       "      <th>19</th>\n",
       "      <td>Transportation</td>\n",
       "      <td>197.700000</td>\n",
       "    </tr>\n",
       "  </tbody>\n",
       "</table>\n",
       "</div>"
      ],
      "text/plain": [
       "                        sector     Profits\n",
       "13                   Materials  487.441667\n",
       "2            Business Services  416.828571\n",
       "3                    Chemicals  264.992857\n",
       "15      Motor Vehicles & Parts  248.800000\n",
       "17                  Technology  245.481667\n",
       "20                 Wholesalers  216.311111\n",
       "8    Food, Beverages & Tobacco  215.584211\n",
       "16                   Retailing  209.728571\n",
       "5   Engineering & Construction  200.728571\n",
       "19              Transportation  197.700000"
      ]
     },
     "execution_count": 494,
     "metadata": {},
     "output_type": "execute_result"
    }
   ],
   "source": [
    "top_10_sector_ap"
   ]
  },
  {
   "cell_type": "code",
   "execution_count": 477,
   "id": "c83e44b7",
   "metadata": {},
   "outputs": [
    {
     "data": {
      "image/png": "[encoded data removed]",
      "text/plain": [
       "<Figure size 529.5x360 with 1 Axes>"
      ]
     },
     "metadata": {},
     "output_type": "display_data"
    }
   ],
   "source": [
    "Profitability = sns.relplot(x=\"Sales\", y=\"Profits\", hue=\"sector\", data=US_merge);"
   ]
  },
  {
   "cell_type": "code",
   "execution_count": 478,
   "id": "94d2c210",
   "metadata": {},
   "outputs": [],
   "source": [
    "losses = US_merge[US_merge[\"Profits\"] <= 0]"
   ]
  },
  {
   "cell_type": "code",
   "execution_count": 479,
   "id": "97b0bcfe",
   "metadata": {},
   "outputs": [],
   "source": [
    "losses_sector = losses.groupby('sector').size()"
   ]
  },
  {
   "cell_type": "code",
   "execution_count": 480,
   "id": "7582baac",
   "metadata": {},
   "outputs": [],
   "source": [
    "most_sector_losses = losses_sector.nlargest(5)"
   ]
  },
  {
   "cell_type": "code",
   "execution_count": 481,
   "id": "a4f763d8",
   "metadata": {},
   "outputs": [
    {
     "name": "stdout",
     "output_type": "stream",
     "text": [
      "sector\n",
      "Energy                           15\n",
      "Financials                        7\n",
      "Technology                        6\n",
      "Hotels, Restaurants & Leisure     5\n",
      "Retailing                         5\n",
      "dtype: int64\n"
     ]
    }
   ],
   "source": [
    "print(most_sector_losses)"
   ]
  },
  {
   "cell_type": "code",
   "execution_count": 482,
   "id": "f9d2f2cc",
   "metadata": {},
   "outputs": [
    {
     "data": {
      "image/png": "[encoded data removed]",
      "text/plain": [
       "<Figure size 360x360 with 1 Axes>"
      ]
     },
     "metadata": {},
     "output_type": "display_data"
    }
   ],
   "source": [
    "plot = most_sector_losses.plot.pie(y='Profits', figsize=(5, 5))"
   ]
  },
  {
   "cell_type": "code",
   "execution_count": 484,
   "id": "8fd88a07",
   "metadata": {},
   "outputs": [
    {
     "data": {
      "text/plain": [
       "<AxesSubplot:xlabel='MarketValue', ylabel='Profits'>"
      ]
     },
     "execution_count": 484,
     "metadata": {},
     "output_type": "execute_result"
    },
    {
     "data": {
      "image/png": "[encoded data removed]",
      "text/plain": [
       "<Figure size 432x288 with 1 Axes>"
      ]
     },
     "metadata": {},
     "output_type": "display_data"
    }
   ],
   "source": [
    "US_merge.plot.scatter(x=\"MarketValue\", y=\"Profits\")"
   ]
  },
  {
   "cell_type": "code",
   "execution_count": 485,
   "id": "e1b0fdcf",
   "metadata": {},
   "outputs": [
    {
     "data": {
      "text/plain": [
       "<AxesSubplot:xlabel='MarketValue', ylabel='Assets'>"
      ]
     },
     "execution_count": 485,
     "metadata": {},
     "output_type": "execute_result"
    },
    {
     "data": {
      "image/png": "[encoded data removed]",
      "text/plain": [
       "<Figure size 432x288 with 1 Axes>"
      ]
     },
     "metadata": {},
     "output_type": "display_data"
    }
   ],
   "source": [
    "US_merge.plot.scatter(x=\"MarketValue\", y=\"Assets\")"
   ]
  },
  {
   "cell_type": "code",
   "execution_count": 486,
   "id": "5eed6d92",
   "metadata": {},
   "outputs": [
    {
     "name": "stdout",
     "output_type": "stream",
     "text": [
      "         Company Name        Country  Sales  Profits  Assets  MarketValue  \\\n",
      "0      JPMorgan Chase  United States  136.2     40.4  3689.3        464.8   \n",
      "1  Berkshire Hathaway  United States  245.5     42.5   873.7        624.4   \n",
      "2               Apple  United States  294.0     63.9   354.1       2252.3   \n",
      "3     Bank of America  United States   98.8     17.9  2832.2        336.3   \n",
      "4              Amazon  United States  386.1     21.3   321.2       1711.8   \n",
      "\n",
      "   num. of employees      sector       city state profitable  \n",
      "0           256981.0  Financials   New York    NY        yes  \n",
      "1           391500.0  Financials      Omaha    NE        yes  \n",
      "2           137000.0  Technology  Cupertino    CA        yes  \n",
      "3           208131.0  Financials  Charlotte    NC        yes  \n",
      "4           798000.0   Retailing    Seattle    WA        yes  \n"
     ]
    }
   ],
   "source": [
    "print(US_merge.head())"
   ]
  },
  {
   "cell_type": "code",
   "execution_count": 489,
   "id": "501563fb",
   "metadata": {},
   "outputs": [],
   "source": [
    "US_merge[\"Productivity\"] = US_merge['Sales']/US_merge['num. of employees'] * 1000000"
   ]
  },
  {
   "cell_type": "code",
   "execution_count": 490,
   "id": "ec1f65dd",
   "metadata": {},
   "outputs": [
    {
     "data": {
      "text/html": [
       "<div>\n",
       "<style scoped>\n",
       "    .dataframe tbody tr th:only-of-type {\n",
       "        vertical-align: middle;\n",
       "    }\n",
       "\n",
       "    .dataframe tbody tr th {\n",
       "        vertical-align: top;\n",
       "    }\n",
       "\n",
       "    .dataframe thead th {\n",
       "        text-align: right;\n",
       "    }\n",
       "</style>\n",
       "<table border=\"1\" class=\"dataframe\">\n",
       "  <thead>\n",
       "    <tr style=\"text-align: right;\">\n",
       "      <th></th>\n",
       "      <th>Company Name</th>\n",
       "      <th>Country</th>\n",
       "      <th>Sales</th>\n",
       "      <th>Profits</th>\n",
       "      <th>Assets</th>\n",
       "      <th>MarketValue</th>\n",
       "      <th>num. of employees</th>\n",
       "      <th>sector</th>\n",
       "      <th>city</th>\n",
       "      <th>state</th>\n",
       "      <th>profitable</th>\n",
       "      <th>Productivity</th>\n",
       "    </tr>\n",
       "  </thead>\n",
       "  <tbody>\n",
       "    <tr>\n",
       "      <th>0</th>\n",
       "      <td>JPMorgan Chase</td>\n",
       "      <td>United States</td>\n",
       "      <td>136.2</td>\n",
       "      <td>40.4</td>\n",
       "      <td>3689.3</td>\n",
       "      <td>464.8</td>\n",
       "      <td>256981.0</td>\n",
       "      <td>Financials</td>\n",
       "      <td>New York</td>\n",
       "      <td>NY</td>\n",
       "      <td>yes</td>\n",
       "      <td>530.000272</td>\n",
       "    </tr>\n",
       "    <tr>\n",
       "      <th>1</th>\n",
       "      <td>Berkshire Hathaway</td>\n",
       "      <td>United States</td>\n",
       "      <td>245.5</td>\n",
       "      <td>42.5</td>\n",
       "      <td>873.7</td>\n",
       "      <td>624.4</td>\n",
       "      <td>391500.0</td>\n",
       "      <td>Financials</td>\n",
       "      <td>Omaha</td>\n",
       "      <td>NE</td>\n",
       "      <td>yes</td>\n",
       "      <td>627.075351</td>\n",
       "    </tr>\n",
       "    <tr>\n",
       "      <th>2</th>\n",
       "      <td>Apple</td>\n",
       "      <td>United States</td>\n",
       "      <td>294.0</td>\n",
       "      <td>63.9</td>\n",
       "      <td>354.1</td>\n",
       "      <td>2252.3</td>\n",
       "      <td>137000.0</td>\n",
       "      <td>Technology</td>\n",
       "      <td>Cupertino</td>\n",
       "      <td>CA</td>\n",
       "      <td>yes</td>\n",
       "      <td>2145.985401</td>\n",
       "    </tr>\n",
       "    <tr>\n",
       "      <th>3</th>\n",
       "      <td>Bank of America</td>\n",
       "      <td>United States</td>\n",
       "      <td>98.8</td>\n",
       "      <td>17.9</td>\n",
       "      <td>2832.2</td>\n",
       "      <td>336.3</td>\n",
       "      <td>208131.0</td>\n",
       "      <td>Financials</td>\n",
       "      <td>Charlotte</td>\n",
       "      <td>NC</td>\n",
       "      <td>yes</td>\n",
       "      <td>474.701030</td>\n",
       "    </tr>\n",
       "    <tr>\n",
       "      <th>4</th>\n",
       "      <td>Amazon</td>\n",
       "      <td>United States</td>\n",
       "      <td>386.1</td>\n",
       "      <td>21.3</td>\n",
       "      <td>321.2</td>\n",
       "      <td>1711.8</td>\n",
       "      <td>798000.0</td>\n",
       "      <td>Retailing</td>\n",
       "      <td>Seattle</td>\n",
       "      <td>WA</td>\n",
       "      <td>yes</td>\n",
       "      <td>483.834586</td>\n",
       "    </tr>\n",
       "    <tr>\n",
       "      <th>...</th>\n",
       "      <td>...</td>\n",
       "      <td>...</td>\n",
       "      <td>...</td>\n",
       "      <td>...</td>\n",
       "      <td>...</td>\n",
       "      <td>...</td>\n",
       "      <td>...</td>\n",
       "      <td>...</td>\n",
       "      <td>...</td>\n",
       "      <td>...</td>\n",
       "      <td>...</td>\n",
       "      <td>...</td>\n",
       "    </tr>\n",
       "    <tr>\n",
       "      <th>579</th>\n",
       "      <td>Howmet Aerospace</td>\n",
       "      <td>United States</td>\n",
       "      <td>6.8</td>\n",
       "      <td>261.0</td>\n",
       "      <td>11.4</td>\n",
       "      <td>14.2</td>\n",
       "      <td>41700.0</td>\n",
       "      <td>Aerospace &amp; Defense</td>\n",
       "      <td>Pittsburgh</td>\n",
       "      <td>PA</td>\n",
       "      <td>yes</td>\n",
       "      <td>163.069544</td>\n",
       "    </tr>\n",
       "    <tr>\n",
       "      <th>580</th>\n",
       "      <td>TransUnion</td>\n",
       "      <td>United States</td>\n",
       "      <td>2.7</td>\n",
       "      <td>343.2</td>\n",
       "      <td>7.3</td>\n",
       "      <td>18.4</td>\n",
       "      <td>8000.0</td>\n",
       "      <td>Business Services</td>\n",
       "      <td>Chicago</td>\n",
       "      <td>IL</td>\n",
       "      <td>yes</td>\n",
       "      <td>337.500000</td>\n",
       "    </tr>\n",
       "    <tr>\n",
       "      <th>581</th>\n",
       "      <td>Nexstar Media Group</td>\n",
       "      <td>United States</td>\n",
       "      <td>4.5</td>\n",
       "      <td>811.4</td>\n",
       "      <td>13.4</td>\n",
       "      <td>6.7</td>\n",
       "      <td>14891.0</td>\n",
       "      <td>Media</td>\n",
       "      <td>Irving</td>\n",
       "      <td>TX</td>\n",
       "      <td>yes</td>\n",
       "      <td>302.195957</td>\n",
       "    </tr>\n",
       "    <tr>\n",
       "      <th>583</th>\n",
       "      <td>TCF Financial</td>\n",
       "      <td>United States</td>\n",
       "      <td>2.3</td>\n",
       "      <td>222.8</td>\n",
       "      <td>47.8</td>\n",
       "      <td>7.3</td>\n",
       "      <td>7732.0</td>\n",
       "      <td>Financials</td>\n",
       "      <td>Detroit</td>\n",
       "      <td>MI</td>\n",
       "      <td>yes</td>\n",
       "      <td>297.465080</td>\n",
       "    </tr>\n",
       "    <tr>\n",
       "      <th>586</th>\n",
       "      <td>Penn National Gaming</td>\n",
       "      <td>United States</td>\n",
       "      <td>3.6</td>\n",
       "      <td>-669.5</td>\n",
       "      <td>17.1</td>\n",
       "      <td>15.6</td>\n",
       "      <td>28300.0</td>\n",
       "      <td>Hotels, Restaurants &amp; Leisure</td>\n",
       "      <td>Wyomissing</td>\n",
       "      <td>PA</td>\n",
       "      <td>yes</td>\n",
       "      <td>127.208481</td>\n",
       "    </tr>\n",
       "  </tbody>\n",
       "</table>\n",
       "<p>425 rows × 12 columns</p>\n",
       "</div>"
      ],
      "text/plain": [
       "             Company Name        Country  Sales  Profits  Assets  MarketValue  \\\n",
       "0          JPMorgan Chase  United States  136.2     40.4  3689.3        464.8   \n",
       "1      Berkshire Hathaway  United States  245.5     42.5   873.7        624.4   \n",
       "2                   Apple  United States  294.0     63.9   354.1       2252.3   \n",
       "3         Bank of America  United States   98.8     17.9  2832.2        336.3   \n",
       "4                  Amazon  United States  386.1     21.3   321.2       1711.8   \n",
       "..                    ...            ...    ...      ...     ...          ...   \n",
       "579      Howmet Aerospace  United States    6.8    261.0    11.4         14.2   \n",
       "580            TransUnion  United States    2.7    343.2     7.3         18.4   \n",
       "581   Nexstar Media Group  United States    4.5    811.4    13.4          6.7   \n",
       "583         TCF Financial  United States    2.3    222.8    47.8          7.3   \n",
       "586  Penn National Gaming  United States    3.6   -669.5    17.1         15.6   \n",
       "\n",
       "     num. of employees                         sector        city state  \\\n",
       "0             256981.0                     Financials    New York    NY   \n",
       "1             391500.0                     Financials       Omaha    NE   \n",
       "2             137000.0                     Technology   Cupertino    CA   \n",
       "3             208131.0                     Financials   Charlotte    NC   \n",
       "4             798000.0                      Retailing     Seattle    WA   \n",
       "..                 ...                            ...         ...   ...   \n",
       "579            41700.0            Aerospace & Defense  Pittsburgh    PA   \n",
       "580             8000.0              Business Services     Chicago    IL   \n",
       "581            14891.0                          Media      Irving    TX   \n",
       "583             7732.0                     Financials     Detroit    MI   \n",
       "586            28300.0  Hotels, Restaurants & Leisure  Wyomissing    PA   \n",
       "\n",
       "    profitable  Productivity  \n",
       "0          yes    530.000272  \n",
       "1          yes    627.075351  \n",
       "2          yes   2145.985401  \n",
       "3          yes    474.701030  \n",
       "4          yes    483.834586  \n",
       "..         ...           ...  \n",
       "579        yes    163.069544  \n",
       "580        yes    337.500000  \n",
       "581        yes    302.195957  \n",
       "583        yes    297.465080  \n",
       "586        yes    127.208481  \n",
       "\n",
       "[425 rows x 12 columns]"
      ]
     },
     "execution_count": 490,
     "metadata": {},
     "output_type": "execute_result"
    }
   ],
   "source": [
    "US_merge"
   ]
  },
  {
   "cell_type": "code",
   "execution_count": 491,
   "id": "758efdef",
   "metadata": {},
   "outputs": [],
   "source": [
    "sector_by_av_productivity = US_merge.groupby([\"sector\"]).Productivity.mean().reset_index(\"sector\")"
   ]
  },
  {
   "cell_type": "code",
   "execution_count": 495,
   "id": "9ea53fe5",
   "metadata": {},
   "outputs": [],
   "source": [
    "top_10_sector_apr = sector_by_av_productivity.nlargest(10, \"Productivity\")"
   ]
  },
  {
   "cell_type": "code",
   "execution_count": 496,
   "id": "c3d7b388",
   "metadata": {
    "scrolled": true
   },
   "outputs": [
    {
     "data": {
      "text/html": [
       "<div>\n",
       "<style scoped>\n",
       "    .dataframe tbody tr th:only-of-type {\n",
       "        vertical-align: middle;\n",
       "    }\n",
       "\n",
       "    .dataframe tbody tr th {\n",
       "        vertical-align: top;\n",
       "    }\n",
       "\n",
       "    .dataframe thead th {\n",
       "        text-align: right;\n",
       "    }\n",
       "</style>\n",
       "<table border=\"1\" class=\"dataframe\">\n",
       "  <thead>\n",
       "    <tr style=\"text-align: right;\">\n",
       "      <th></th>\n",
       "      <th>sector</th>\n",
       "      <th>Productivity</th>\n",
       "    </tr>\n",
       "  </thead>\n",
       "  <tbody>\n",
       "    <tr>\n",
       "      <th>6</th>\n",
       "      <td>Financials</td>\n",
       "      <td>84473.033456</td>\n",
       "    </tr>\n",
       "    <tr>\n",
       "      <th>4</th>\n",
       "      <td>Energy</td>\n",
       "      <td>1609.965133</td>\n",
       "    </tr>\n",
       "    <tr>\n",
       "      <th>5</th>\n",
       "      <td>Engineering &amp; Construction</td>\n",
       "      <td>1456.360664</td>\n",
       "    </tr>\n",
       "    <tr>\n",
       "      <th>2</th>\n",
       "      <td>Business Services</td>\n",
       "      <td>1252.523230</td>\n",
       "    </tr>\n",
       "    <tr>\n",
       "      <th>9</th>\n",
       "      <td>Health Care</td>\n",
       "      <td>1136.664184</td>\n",
       "    </tr>\n",
       "    <tr>\n",
       "      <th>14</th>\n",
       "      <td>Media</td>\n",
       "      <td>1045.494258</td>\n",
       "    </tr>\n",
       "    <tr>\n",
       "      <th>20</th>\n",
       "      <td>Wholesalers</td>\n",
       "      <td>999.430818</td>\n",
       "    </tr>\n",
       "    <tr>\n",
       "      <th>8</th>\n",
       "      <td>Food, Beverages &amp; Tobacco</td>\n",
       "      <td>735.525659</td>\n",
       "    </tr>\n",
       "    <tr>\n",
       "      <th>18</th>\n",
       "      <td>Telecommunications</td>\n",
       "      <td>725.108633</td>\n",
       "    </tr>\n",
       "    <tr>\n",
       "      <th>17</th>\n",
       "      <td>Technology</td>\n",
       "      <td>585.245769</td>\n",
       "    </tr>\n",
       "  </tbody>\n",
       "</table>\n",
       "</div>"
      ],
      "text/plain": [
       "                        sector  Productivity\n",
       "6                   Financials  84473.033456\n",
       "4                       Energy   1609.965133\n",
       "5   Engineering & Construction   1456.360664\n",
       "2            Business Services   1252.523230\n",
       "9                  Health Care   1136.664184\n",
       "14                       Media   1045.494258\n",
       "20                 Wholesalers    999.430818\n",
       "8    Food, Beverages & Tobacco    735.525659\n",
       "18          Telecommunications    725.108633\n",
       "17                  Technology    585.245769"
      ]
     },
     "execution_count": 496,
     "metadata": {},
     "output_type": "execute_result"
    }
   ],
   "source": [
    "top_10_sector_apr"
   ]
  },
  {
   "cell_type": "code",
   "execution_count": 497,
   "id": "391d7ed7",
   "metadata": {
    "scrolled": true
   },
   "outputs": [
    {
     "name": "stdout",
     "output_type": "stream",
     "text": [
      "                      sector   Sales  MarketValue     Profits\n",
      "0                  Retailing  1666.8       3231.4  209.728571\n",
      "1                 Technology  1525.9      10436.3  245.481667\n",
      "2  Food, Beverages & Tobacco   406.8       1209.5  215.584211\n",
      "3     Motor Vehicles & Parts   333.0       1813.0  248.800000\n"
     ]
    }
   ],
   "source": [
    "left = comparison\n",
    "right = top_10_sector_ap\n",
    "\n",
    "comp2 = pd.merge(left, right, on=\"sector\")\n",
    "\n",
    "print(comp2)"
   ]
  },
  {
   "cell_type": "code",
   "execution_count": 498,
   "id": "a7dafd71",
   "metadata": {},
   "outputs": [
    {
     "name": "stdout",
     "output_type": "stream",
     "text": [
      "                      sector   Sales  MarketValue     Profits  Productivity\n",
      "0                 Technology  1525.9      10436.3  245.481667    585.245769\n",
      "1  Food, Beverages & Tobacco   406.8       1209.5  215.584211    735.525659\n"
     ]
    }
   ],
   "source": [
    "left = comp2\n",
    "right = top_10_sector_apr\n",
    "\n",
    "comp3 = pd.merge(left, right, on=\"sector\")\n",
    "\n",
    "print(comp3)"
   ]
  },
  {
   "cell_type": "code",
   "execution_count": 500,
   "id": "3ea8e1b7",
   "metadata": {},
   "outputs": [
    {
     "data": {
      "text/html": [
       "<div>\n",
       "<style scoped>\n",
       "    .dataframe tbody tr th:only-of-type {\n",
       "        vertical-align: middle;\n",
       "    }\n",
       "\n",
       "    .dataframe tbody tr th {\n",
       "        vertical-align: top;\n",
       "    }\n",
       "\n",
       "    .dataframe thead th {\n",
       "        text-align: right;\n",
       "    }\n",
       "</style>\n",
       "<table border=\"1\" class=\"dataframe\">\n",
       "  <thead>\n",
       "    <tr style=\"text-align: right;\">\n",
       "      <th></th>\n",
       "      <th>sector</th>\n",
       "      <th>Sales</th>\n",
       "      <th>MarketValue</th>\n",
       "      <th>Profits</th>\n",
       "      <th>Productivity</th>\n",
       "    </tr>\n",
       "  </thead>\n",
       "  <tbody>\n",
       "    <tr>\n",
       "      <th>0</th>\n",
       "      <td>Technology</td>\n",
       "      <td>1525.9</td>\n",
       "      <td>10436.3</td>\n",
       "      <td>245.481667</td>\n",
       "      <td>585.245769</td>\n",
       "    </tr>\n",
       "    <tr>\n",
       "      <th>1</th>\n",
       "      <td>Food, Beverages &amp; Tobacco</td>\n",
       "      <td>406.8</td>\n",
       "      <td>1209.5</td>\n",
       "      <td>215.584211</td>\n",
       "      <td>735.525659</td>\n",
       "    </tr>\n",
       "  </tbody>\n",
       "</table>\n",
       "</div>"
      ],
      "text/plain": [
       "                      sector   Sales  MarketValue     Profits  Productivity\n",
       "0                 Technology  1525.9      10436.3  245.481667    585.245769\n",
       "1  Food, Beverages & Tobacco   406.8       1209.5  215.584211    735.525659"
      ]
     },
     "execution_count": 500,
     "metadata": {},
     "output_type": "execute_result"
    }
   ],
   "source": [
    "comp3"
   ]
  },
  {
   "cell_type": "code",
   "execution_count": 502,
   "id": "7e666dd2",
   "metadata": {},
   "outputs": [],
   "source": [
    "comp3.rename(columns = {'Sales':'Total Sales', 'MarketValue' : 'Total Market Value', 'Profits' : 'Average Profits', 'Productivity' : 'Average Productivity'}, inplace = True)"
   ]
  },
  {
   "cell_type": "code",
   "execution_count": 504,
   "id": "46ce9942",
   "metadata": {},
   "outputs": [
    {
     "data": {
      "text/plain": [
       "<AxesSubplot:title={'center':'Top Industries US 2021: Forbes Sample'}, ylabel='sector'>"
      ]
     },
     "execution_count": 504,
     "metadata": {},
     "output_type": "execute_result"
    },
    {
     "data": {
      "image/png": "[encoded data removed]",
      "text/plain": [
       "<Figure size 432x288 with 1 Axes>"
      ]
     },
     "metadata": {},
     "output_type": "display_data"
    }
   ],
   "source": [
    "comp3.plot(x='sector',\n",
    "        kind='barh',\n",
    "        stacked=False,\n",
    "        title='Top Industries US 2021: Forbes Sample')"
   ]
  },
  {
   "cell_type": "code",
   "execution_count": null,
   "id": "b2c6604c",
   "metadata": {},
   "outputs": [],
   "source": []
  }
 ],
 "metadata": {
  "kernelspec": {
   "display_name": "Python 3",
   "language": "python",
   "name": "python3"
  },
  "language_info": {
   "codemirror_mode": {
    "name": "ipython",
    "version": 3
   },
   "file_extension": ".py",
   "mimetype": "text/x-python",
   "name": "python",
   "nbconvert_exporter": "python",
   "pygments_lexer": "ipython3",
   "version": "3.8.8"
  }
 },
 "nbformat": 4,
 "nbformat_minor": 5
}
