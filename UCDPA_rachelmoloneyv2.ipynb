{
 "cells": [
  {
   "cell_type": "code",
   "execution_count": 1,
   "id": "11785061",
   "metadata": {},
   "outputs": [
    {
     "name": "stdout",
     "output_type": "stream",
     "text": [
      "   Rank                                      Name        Country  Sales (B)  \\\n",
      "0   1.0                                      ICBC          China      190.5   \n",
      "1   2.0                            JPMorgan Chase  United States      136.2   \n",
      "2   3.0                        Berkshire Hathaway  United States      245.5   \n",
      "3   4.0                   China Construction Bank          China      173.5   \n",
      "4   5.0  Saudi Arabian Oil Company (Saudi Aramco)   Saudi Arabia      229.7   \n",
      "\n",
      "   Profit (B) Assets (B) Market Value (B)  Year  \n",
      "0        45.8   4,914.70            249.5  2021  \n",
      "1        40.4   3,689.30            464.8  2021  \n",
      "2        42.5      873.7            624.4  2021  \n",
      "3        39.3   4,301.70            210.4  2021  \n",
      "4        49.3      510.3         1,897.20  2021  \n",
      "(2100, 8)\n"
     ]
    }
   ],
   "source": [
    "import pandas as pd\n",
    "Forbes21 = pd.read_csv(r\"C:\\Users\\ramolone\\OneDrive - Microsoft\\Documents\\Data Analytics\\Forbes-2021.csv\")\n",
    "print(Forbes21.head())\n",
    "print(Forbes21.shape)"
   ]
  },
  {
   "cell_type": "code",
   "execution_count": 2,
   "id": "7de23f31",
   "metadata": {},
   "outputs": [
    {
     "name": "stdout",
     "output_type": "stream",
     "text": [
      "   Rank                        Name        Country  Sales (B)  Profit (B)  \\\n",
      "0     1                        ICBC          China    175.874      45.223   \n",
      "1     2              JPMorgan Chase  United States    132.912      32.738   \n",
      "2     3     China Construction Bank          China    150.313      38.841   \n",
      "3     4  Agricultural Bank of China          China    137.456      30.894   \n",
      "4     5             Bank of America  United States    111.904      28.540   \n",
      "\n",
      "   Assets (B)  Market Value (B)  Year  \n",
      "0    4034.482           305.057  2019  \n",
      "1    2737.188           368.502  2019  \n",
      "2    3382.422           224.988  2019  \n",
      "3    3293.105           197.045  2019  \n",
      "4    2377.164           287.339  2019  \n",
      "(2000, 8)\n"
     ]
    }
   ],
   "source": [
    "Forbes19 = pd.read_csv(r\"C:\\Users\\ramolone\\OneDrive - Microsoft\\Documents\\Data Analytics\\Forbes-2019.csv\")\n",
    "print(Forbes19.head())\n",
    "print(Forbes19.shape)"
   ]
  },
  {
   "cell_type": "code",
   "execution_count": null,
   "id": "b684af40",
   "metadata": {},
   "outputs": [],
   "source": []
  }
 ],
 "metadata": {
  "kernelspec": {
   "display_name": "Python 3",
   "language": "python",
   "name": "python3"
  },
  "language_info": {
   "codemirror_mode": {
    "name": "ipython",
    "version": 3
   },
   "file_extension": ".py",
   "mimetype": "text/x-python",
   "name": "python",
   "nbconvert_exporter": "python",
   "pygments_lexer": "ipython3",
   "version": "3.8.8"
  }
 },
 "nbformat": 4,
 "nbformat_minor": 5
}
